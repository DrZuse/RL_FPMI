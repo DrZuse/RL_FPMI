{
  "nbformat": 4,
  "nbformat_minor": 0,
  "metadata": {
    "kernelspec": {
      "display_name": "Py3 research env",
      "language": "python",
      "name": "py3_research"
    },
    "language_info": {
      "codemirror_mode": {
        "name": "ipython",
        "version": 3
      },
      "file_extension": ".py",
      "mimetype": "text/x-python",
      "name": "python",
      "nbconvert_exporter": "python",
      "pygments_lexer": "ipython3",
      "version": "3.6.7"
    },
    "colab": {
      "name": "week11_RL_for_seq2sec.ipynb",
      "provenance": [],
      "include_colab_link": true
    }
  },
  "cells": [
    {
      "cell_type": "markdown",
      "metadata": {
        "id": "view-in-github",
        "colab_type": "text"
      },
      "source": [
        "<a href=\"https://colab.research.google.com/github/DrZuse/RL_FPMI/blob/main/week11_RL_for_seq2sec.ipynb\" target=\"_parent\"><img src=\"https://colab.research.google.com/assets/colab-badge.svg\" alt=\"Open In Colab\"/></a>"
      ]
    },
    {
      "cell_type": "markdown",
      "metadata": {
        "id": "WxUvrcqUIpjh"
      },
      "source": [
        "# week11: Reinforcement Learning for seq2seq\n",
        "_Reference: based on Practical RL_ [week07](https://github.com/yandexdataschool/Practical_RL/blob/master/week07_seq2seq)\n",
        "\n",
        "This time we'll solve a problem of transribing hebrew words in english, also known as g2p (grapheme2phoneme)\n",
        "\n",
        " * word (sequence of letters in source language) -> translation (sequence of letters in target language)\n",
        "\n",
        "Unlike what most deep learning practicioners do, we won't only train it to maximize likelihood of correct translation, but also employ reinforcement learning to actually teach it to translate with as few errors as possible.\n",
        "\n",
        "\n",
        "### About the task\n",
        "\n",
        "One notable property of Hebrew is that it's consonant language. That is, there are no wovels in the written language. One could represent wovels with diacritics above consonants, but you don't expect people to do that in everyay life.\n",
        "\n",
        "Therefore, some hebrew characters will correspond to several english letters and others - to none, so we should use encoder-decoder architecture to figure that out.\n",
        "\n",
        "![img](https://esciencegroup.files.wordpress.com/2016/03/seq2seq.jpg)\n",
        "_(img: esciencegroup.files.wordpress.com)_\n",
        "\n",
        "Encoder-decoder architectures are about converting anything to anything, including\n",
        " * Machine translation and spoken dialogue systems\n",
        " * [Image captioning](http://mscoco.org/dataset/#captions-challenge2015) and [image2latex](https://htmlpreview.github.io/?https://github.com/openai/requests-for-research/blob/master/_requests_for_research/im2latex.html) (convolutional encoder, recurrent decoder)\n",
        " * Generating [images by captions](https://arxiv.org/abs/1511.02793) (recurrent encoder, convolutional decoder)\n",
        " * Grapheme2phoneme - convert words to transcripts\n",
        "  \n",
        "We chose simplified __Hebrew->English__ machine translation for words and short phrases (character-level), as it is relatively quick to train even without a gpu cluster."
      ]
    },
    {
      "cell_type": "code",
      "metadata": {
        "id": "Ux3ddvSoIpjn",
        "outputId": "b0bd5f29-7b0c-4343-8e7e-8338ccc6aa91",
        "colab": {
          "base_uri": "https://localhost:8080/"
        }
      },
      "source": [
        "# # if running in colab, uncomment\n",
        "!wget https://raw.githubusercontent.com/girafe-ai/ml-mipt/advanced/week11_RL_outside_games/basic_model_torch.py -O basic_model_torch.py\n",
        "!wget https://raw.githubusercontent.com/girafe-ai/ml-mipt/advanced/week11_RL_outside_games/main_dataset.txt -O main_dataset.txt\n",
        "!wget https://raw.githubusercontent.com/girafe-ai/ml-mipt/advanced/week11_RL_outside_games/voc.py -O voc.py\n",
        "!pip install nltk editdistance"
      ],
      "execution_count": 1,
      "outputs": [
        {
          "output_type": "stream",
          "text": [
            "--2021-01-13 14:34:46--  https://raw.githubusercontent.com/girafe-ai/ml-mipt/advanced/week11_RL_outside_games/basic_model_torch.py\n",
            "Resolving raw.githubusercontent.com (raw.githubusercontent.com)... 151.101.0.133, 151.101.64.133, 151.101.128.133, ...\n",
            "Connecting to raw.githubusercontent.com (raw.githubusercontent.com)|151.101.0.133|:443... connected.\n",
            "HTTP request sent, awaiting response... 200 OK\n",
            "Length: 7054 (6.9K) [text/plain]\n",
            "Saving to: ‘basic_model_torch.py’\n",
            "\n",
            "basic_model_torch.p 100%[===================>]   6.89K  --.-KB/s    in 0s      \n",
            "\n",
            "2021-01-13 14:34:46 (83.3 MB/s) - ‘basic_model_torch.py’ saved [7054/7054]\n",
            "\n",
            "--2021-01-13 14:34:46--  https://raw.githubusercontent.com/girafe-ai/ml-mipt/advanced/week11_RL_outside_games/main_dataset.txt\n",
            "Resolving raw.githubusercontent.com (raw.githubusercontent.com)... 151.101.0.133, 151.101.64.133, 151.101.128.133, ...\n",
            "Connecting to raw.githubusercontent.com (raw.githubusercontent.com)|151.101.0.133|:443... connected.\n",
            "HTTP request sent, awaiting response... 200 OK\n",
            "Length: 8608230 (8.2M) [text/plain]\n",
            "Saving to: ‘main_dataset.txt’\n",
            "\n",
            "main_dataset.txt    100%[===================>]   8.21M  45.9MB/s    in 0.2s    \n",
            "\n",
            "2021-01-13 14:34:47 (45.9 MB/s) - ‘main_dataset.txt’ saved [8608230/8608230]\n",
            "\n",
            "--2021-01-13 14:34:47--  https://raw.githubusercontent.com/girafe-ai/ml-mipt/advanced/week11_RL_outside_games/voc.py\n",
            "Resolving raw.githubusercontent.com (raw.githubusercontent.com)... 151.101.0.133, 151.101.64.133, 151.101.128.133, ...\n",
            "Connecting to raw.githubusercontent.com (raw.githubusercontent.com)|151.101.0.133|:443... connected.\n",
            "HTTP request sent, awaiting response... 200 OK\n",
            "Length: 2581 (2.5K) [text/plain]\n",
            "Saving to: ‘voc.py’\n",
            "\n",
            "voc.py              100%[===================>]   2.52K  --.-KB/s    in 0s      \n",
            "\n",
            "2021-01-13 14:34:47 (28.8 MB/s) - ‘voc.py’ saved [2581/2581]\n",
            "\n",
            "Requirement already satisfied: nltk in /usr/local/lib/python3.6/dist-packages (3.2.5)\n",
            "Requirement already satisfied: editdistance in /usr/local/lib/python3.6/dist-packages (0.5.3)\n",
            "Requirement already satisfied: six in /usr/local/lib/python3.6/dist-packages (from nltk) (1.15.0)\n"
          ],
          "name": "stdout"
        }
      ]
    },
    {
      "cell_type": "code",
      "metadata": {
        "id": "88WikNYZIpjo"
      },
      "source": [
        "# If True, only translates phrases shorter than 20 characters (way easier).\n",
        "EASY_MODE = True\n",
        "# Useful for initial coding.\n",
        "# If false, works with all phrases (please switch to this mode for homework assignment)\n",
        "\n",
        "# way we translate. Either \"he-to-en\" or \"en-to-he\"\n",
        "MODE = \"he-to-en\"\n",
        "# maximal length of _generated_ output, does not affect training\n",
        "MAX_OUTPUT_LENGTH = 50 if not EASY_MODE else 20\n",
        "REPORT_FREQ = 100                          # how often to evaluate validation score"
      ],
      "execution_count": 2,
      "outputs": []
    },
    {
      "cell_type": "markdown",
      "metadata": {
        "id": "YP_jwpeIIpjp"
      },
      "source": [
        "### Step 1: preprocessing\n",
        "\n",
        "We shall store dataset as a dictionary\n",
        "`{ word1:[translation1,translation2,...], word2:[...],...}`.\n",
        "\n",
        "This is mostly due to the fact that many words have several correct translations.\n",
        "\n",
        "We have implemented this thing for you so that you can focus on more interesting parts.\n",
        "\n",
        "\n",
        "__Attention python2 users!__ You may want to cast everything to unicode later during homework phase, just make sure you do it _everywhere_."
      ]
    },
    {
      "cell_type": "code",
      "metadata": {
        "id": "UtLK0EgWIpjp",
        "outputId": "f08d612e-a387-47e9-b085-634e9c6a0184",
        "colab": {
          "base_uri": "https://localhost:8080/"
        }
      },
      "source": [
        "import numpy as np\n",
        "from collections import defaultdict\n",
        "word_to_translation = defaultdict(list)  # our dictionary\n",
        "\n",
        "bos = '_'\n",
        "eos = ';'\n",
        "\n",
        "with open(\"main_dataset.txt\", encoding=\"utf-8\") as fin:\n",
        "    for line in fin:\n",
        "\n",
        "        en, he = line[:-1].lower().replace(bos, ' ').replace(eos,\n",
        "                                                             ' ').split('\\t')\n",
        "        word, trans = (he, en) if MODE == 'he-to-en' else (en, he)\n",
        "\n",
        "        if len(word) < 3:\n",
        "            continue\n",
        "        if EASY_MODE:\n",
        "            if max(len(word), len(trans)) > 20:\n",
        "                continue\n",
        "\n",
        "        word_to_translation[word].append(trans)\n",
        "\n",
        "print(\"size = \", len(word_to_translation))"
      ],
      "execution_count": 3,
      "outputs": [
        {
          "output_type": "stream",
          "text": [
            "size =  130113\n"
          ],
          "name": "stdout"
        }
      ]
    },
    {
      "cell_type": "code",
      "metadata": {
        "id": "OO0w-AVdIpjp"
      },
      "source": [
        "# get all unique lines in source language\n",
        "all_words = np.array(list(word_to_translation.keys()))\n",
        "# get all unique lines in translation language\n",
        "all_translations = np.array(\n",
        "    [ts for all_ts in word_to_translation.values() for ts in all_ts])"
      ],
      "execution_count": 4,
      "outputs": []
    },
    {
      "cell_type": "markdown",
      "metadata": {
        "id": "oQfR-rCvIpjq"
      },
      "source": [
        "### split the dataset\n",
        "\n",
        "We hold out 10% of all words to be used for validation.\n"
      ]
    },
    {
      "cell_type": "code",
      "metadata": {
        "id": "jsOZtQlfIpjq"
      },
      "source": [
        "from sklearn.model_selection import train_test_split\n",
        "train_words, test_words = train_test_split(\n",
        "    all_words, test_size=0.1, random_state=42)"
      ],
      "execution_count": 5,
      "outputs": []
    },
    {
      "cell_type": "markdown",
      "metadata": {
        "id": "PYH31TqyIpjq"
      },
      "source": [
        "### Building vocabularies\n",
        "\n",
        "We now need to build vocabularies that map strings to token ids and vice versa. We're gonna need these fellas when we feed training data into model or convert output matrices into english words."
      ]
    },
    {
      "cell_type": "code",
      "metadata": {
        "id": "Q4xXK-QmIpjq"
      },
      "source": [
        "from voc import Vocab\n",
        "inp_voc = Vocab.from_lines(''.join(all_words), bos=bos, eos=eos, sep='')\n",
        "out_voc = Vocab.from_lines(''.join(all_translations), bos=bos, eos=eos, sep='')"
      ],
      "execution_count": 6,
      "outputs": []
    },
    {
      "cell_type": "code",
      "metadata": {
        "id": "A3Vlsey7Ipjr",
        "outputId": "a66b576b-8e1c-4db0-ba0b-da00410b5478",
        "colab": {
          "base_uri": "https://localhost:8080/"
        }
      },
      "source": [
        "# Here's how you cast lines into ids and backwards.\n",
        "batch_lines = all_words[:5]\n",
        "batch_ids = inp_voc.to_matrix(batch_lines)\n",
        "batch_lines_restored = inp_voc.to_lines(batch_ids)\n",
        "\n",
        "print(\"lines\")\n",
        "print(batch_lines)\n",
        "print(\"\\nwords to ids (0 = bos, 1 = eos):\")\n",
        "print(batch_ids)\n",
        "print(\"\\nback to words\")\n",
        "print(batch_lines_restored)"
      ],
      "execution_count": 7,
      "outputs": [
        {
          "output_type": "stream",
          "text": [
            "lines\n",
            "['אנרכיזם' 'אוטיזם קלאסי' 'אלבדו' 'אלבמה' 'אכילס']\n",
            "\n",
            "words to ids (0 = bos, 1 = eos):\n",
            "[[  0 101  56 178  17 110  78  42   1   1   1   1   1   1]\n",
            " [  0 101 182  61 110  78  42 114  91  41 101 155 110   1]\n",
            " [  0 101  41  44 100 182   1   1   1   1   1   1   1   1]\n",
            " [  0 101  41  44 128 140   1   1   1   1   1   1   1   1]\n",
            " [  0 101  17 110  41 155   1   1   1   1   1   1   1   1]]\n",
            "\n",
            "back to words\n",
            "['אנרכיזם', 'אוטיזם קלאסי', 'אלבדו', 'אלבמה', 'אכילס']\n"
          ],
          "name": "stdout"
        }
      ]
    },
    {
      "cell_type": "markdown",
      "metadata": {
        "id": "LwEsqGbbIpjr"
      },
      "source": [
        "Draw word/translation length distributions to estimate the scope of the task."
      ]
    },
    {
      "cell_type": "code",
      "metadata": {
        "id": "sBQpl5ooIpjr",
        "outputId": "6e78d305-24e5-4c74-c3a3-85faf59392c0",
        "colab": {
          "base_uri": "https://localhost:8080/",
          "height": 400
        }
      },
      "source": [
        "import matplotlib.pyplot as plt\n",
        "%matplotlib inline\n",
        "plt.figure(figsize=[8, 4])\n",
        "plt.subplot(1, 2, 1)\n",
        "plt.title(\"words\")\n",
        "plt.hist(list(map(len, all_words)), bins=20)\n",
        "\n",
        "plt.subplot(1, 2, 2)\n",
        "plt.title('translations')\n",
        "plt.hist(list(map(len, all_translations)), bins=20)"
      ],
      "execution_count": 8,
      "outputs": [
        {
          "output_type": "execute_result",
          "data": {
            "text/plain": [
              "(array([   21.,   112.,  3098.,  8157., 11482., 12556., 11430.,  9568.,\n",
              "         9254.,  9755., 10299., 11123., 11203., 10840.,  9316.,  7873.,\n",
              "         6527.,  5523.,  4505.,  3684.]),\n",
              " array([ 1.  ,  1.95,  2.9 ,  3.85,  4.8 ,  5.75,  6.7 ,  7.65,  8.6 ,\n",
              "         9.55, 10.5 , 11.45, 12.4 , 13.35, 14.3 , 15.25, 16.2 , 17.15,\n",
              "        18.1 , 19.05, 20.  ]),\n",
              " <a list of 20 Patch objects>)"
            ]
          },
          "metadata": {
            "tags": []
          },
          "execution_count": 8
        },
        {
          "output_type": "display_data",
          "data": {
            "image/png": "[encoded data removed]",
            "text/plain": [
              "<Figure size 576x288 with 2 Axes>"
            ]
          },
          "metadata": {
            "tags": [],
            "needs_background": "light"
          }
        }
      ]
    },
    {
      "cell_type": "markdown",
      "metadata": {
        "id": "9NetuVN6Ipjs"
      },
      "source": [
        "### Step 3: deploy encoder-decoder \n",
        "\n",
        "__assignment starts here__\n",
        "\n",
        "Our architecture consists of two main blocks:\n",
        "* Encoder reads words character by character and outputs code vector (usually a function of last RNN state)\n",
        "* Decoder takes that code vector and produces translations character by character\n",
        "\n",
        "Than it gets fed into a model that follows this simple interface:\n",
        "* __`model(inp, out, **flags) -> logp`__ - takes symbolic int32 matrices of hebrew words and their english translations. Computes the log-probabilities of all possible english characters given english prefices and hebrew word.\n",
        "* __`model.translate(inp, **flags) -> out, logp`__ - takes symbolic int32 matrix of hebrew words, produces output tokens sampled from the model and output log-probabilities for all possible tokens at each tick.\n",
        "  * if given flag __`greedy=True`__, takes most likely next token at each iteration. Otherwise samples with next token probabilities predicted by model.\n",
        "\n",
        "That's all! It's as hard as it gets. With those two methods alone you can implement all kinds of prediction and training."
      ]
    },
    {
      "cell_type": "code",
      "metadata": {
        "id": "2XIJ76gmIpjs"
      },
      "source": [
        "import torch\n",
        "import torch.nn as nn\n",
        "import torch.nn.functional as F"
      ],
      "execution_count": 9,
      "outputs": []
    },
    {
      "cell_type": "code",
      "metadata": {
        "id": "gxBAPmKSIpjt"
      },
      "source": [
        "from basic_model_torch import BasicTranslationModel\n",
        "model = BasicTranslationModel(inp_voc, out_voc,\n",
        "                              emb_size=64, hid_size=256)"
      ],
      "execution_count": 10,
      "outputs": []
    },
    {
      "cell_type": "code",
      "metadata": {
        "id": "1cUzkYiuIpjt",
        "outputId": "2309baaa-7733-4d30-cf12-b81f341bd4cb",
        "colab": {
          "base_uri": "https://localhost:8080/"
        }
      },
      "source": [
        "# Play around with symbolic_translate and symbolic_score\n",
        "inp = torch.tensor(np.random.randint(0, 10, [3, 5]), dtype=torch.int64)\n",
        "out = torch.tensor(np.random.randint(0, 10, [3, 5]), dtype=torch.int64)\n",
        "\n",
        "# translate inp (with untrained model)\n",
        "sampled_out, logp = model.translate(inp, greedy=False)\n",
        "\n",
        "print(\"Sample translations:\\n\", sampled_out)\n",
        "print(\"Log-probabilities at each step:\\n\", logp)"
      ],
      "execution_count": 11,
      "outputs": [
        {
          "output_type": "stream",
          "text": [
            "Sample translations:\n",
            " tensor([[  0,  64, 255,  ..., 209, 130, 229],\n",
            "        [  0, 131,   1,  ...,  56,  77,  71],\n",
            "        [  0, 276,  92,  ...,  98, 149,   1]])\n",
            "Log-probabilities at each step:\n",
            " tensor([[[  0.0000, -69.0776, -69.0776,  ..., -69.0776, -69.0776, -69.0776],\n",
            "         [ -5.8003,  -5.7534,  -5.6681,  ...,  -5.5696,  -5.7975,  -5.7669],\n",
            "         [ -5.7494,  -5.6232,  -5.5992,  ...,  -5.4282,  -5.7416,  -5.7427],\n",
            "         ...,\n",
            "         [ -5.6889,  -5.7919,  -5.6240,  ...,  -5.6579,  -5.8561,  -5.4750],\n",
            "         [ -5.5825,  -5.8019,  -5.6754,  ...,  -5.7364,  -5.7616,  -5.5248],\n",
            "         [ -5.6314,  -5.9309,  -5.7069,  ...,  -5.7583,  -5.6206,  -5.5922]],\n",
            "\n",
            "        [[  0.0000, -69.0776, -69.0776,  ..., -69.0776, -69.0776, -69.0776],\n",
            "         [ -5.7823,  -5.7639,  -5.6022,  ...,  -5.6023,  -5.7750,  -5.7831],\n",
            "         [ -5.6968,  -5.6699,  -5.5294,  ...,  -5.7059,  -5.6724,  -5.7855],\n",
            "         ...,\n",
            "         [ -5.6427,  -5.6094,  -5.7674,  ...,  -5.6059,  -5.5987,  -5.7230],\n",
            "         [ -5.7321,  -5.6831,  -5.7342,  ...,  -5.7096,  -5.6439,  -5.7796],\n",
            "         [ -5.7517,  -5.7290,  -5.7181,  ...,  -5.6224,  -5.5421,  -5.6742]],\n",
            "\n",
            "        [[  0.0000, -69.0776, -69.0776,  ..., -69.0776, -69.0776, -69.0776],\n",
            "         [ -5.7438,  -5.7484,  -5.7055,  ...,  -5.5738,  -5.7974,  -5.7377],\n",
            "         [ -5.6542,  -5.7205,  -5.7091,  ...,  -5.7539,  -5.7665,  -5.7916],\n",
            "         ...,\n",
            "         [ -5.5817,  -5.7425,  -5.7042,  ...,  -5.8076,  -5.8113,  -5.4933],\n",
            "         [ -5.5881,  -5.8659,  -5.6746,  ...,  -5.6369,  -5.6721,  -5.4180],\n",
            "         [ -5.7488,  -5.7907,  -5.6844,  ...,  -5.5948,  -5.6333,  -5.5223]]],\n",
            "       grad_fn=<LogSoftmaxBackward>)\n"
          ],
          "name": "stdout"
        }
      ]
    },
    {
      "cell_type": "code",
      "metadata": {
        "id": "v5F8md4jIpjt",
        "outputId": "db0608a4-b626-4a51-f218-693a8ec33206",
        "colab": {
          "base_uri": "https://localhost:8080/"
        }
      },
      "source": [
        "# score logp(out | inp) with untrained input\n",
        "logp = model(inp, out)\n",
        "print(\"Symbolic_score output:\\n\", logp)\n",
        "\n",
        "print(\"Log-probabilities of output tokens:\\n\",\n",
        "      torch.gather(logp, dim=2, index=out[:, :, None]))"
      ],
      "execution_count": 12,
      "outputs": [
        {
          "output_type": "stream",
          "text": [
            "Symbolic_score output:\n",
            " tensor([[[  0.0000, -69.0776, -69.0776,  ..., -69.0776, -69.0776, -69.0776],\n",
            "         [ -5.7243,  -5.6522,  -5.6536,  ...,  -5.8082,  -5.8627,  -5.7532],\n",
            "         [ -5.5323,  -5.6435,  -5.7153,  ...,  -5.8878,  -5.9786,  -5.6988],\n",
            "         [ -5.6811,  -5.7542,  -5.6949,  ...,  -5.6455,  -5.9313,  -5.7277],\n",
            "         [ -5.4994,  -5.7547,  -5.7308,  ...,  -5.8190,  -5.9701,  -5.7086]],\n",
            "\n",
            "        [[  0.0000, -69.0776, -69.0776,  ..., -69.0776, -69.0776, -69.0776],\n",
            "         [ -5.6857,  -5.6817,  -5.5225,  ...,  -5.6414,  -5.7037,  -5.6231],\n",
            "         [ -5.7094,  -5.7293,  -5.5351,  ...,  -5.6520,  -5.7278,  -5.7149],\n",
            "         [ -5.7215,  -5.7505,  -5.5496,  ...,  -5.6569,  -5.7395,  -5.7461],\n",
            "         [ -5.7909,  -5.6516,  -5.5686,  ...,  -5.6714,  -5.7074,  -5.8468]],\n",
            "\n",
            "        [[  0.0000, -69.0776, -69.0776,  ..., -69.0776, -69.0776, -69.0776],\n",
            "         [ -5.6583,  -5.7064,  -5.5438,  ...,  -5.7679,  -5.6541,  -5.6285],\n",
            "         [ -5.7009,  -5.7135,  -5.4519,  ...,  -5.7774,  -5.6741,  -5.5959],\n",
            "         [ -5.6442,  -5.7013,  -5.5881,  ...,  -5.8297,  -5.7085,  -5.5606],\n",
            "         [ -5.7234,  -5.6511,  -5.6292,  ...,  -5.8731,  -5.8930,  -5.6209]]],\n",
            "       grad_fn=<LogSoftmaxBackward>)\n",
            "Log-probabilities of output tokens:\n",
            " tensor([[[-69.0776],\n",
            "         [ -5.7177],\n",
            "         [ -5.5323],\n",
            "         [ -5.6389],\n",
            "         [ -5.4756]],\n",
            "\n",
            "        [[-69.0776],\n",
            "         [ -5.6173],\n",
            "         [ -5.5611],\n",
            "         [ -5.7189],\n",
            "         [ -5.7909]],\n",
            "\n",
            "        [[-69.0776],\n",
            "         [ -5.5234],\n",
            "         [ -5.4519],\n",
            "         [ -5.6804],\n",
            "         [ -5.5237]]], grad_fn=<GatherBackward>)\n"
          ],
          "name": "stdout"
        }
      ]
    },
    {
      "cell_type": "code",
      "metadata": {
        "id": "TlaLQNrwIpjt"
      },
      "source": [
        "def translate(lines, max_len=MAX_OUTPUT_LENGTH):\n",
        "    \"\"\"\n",
        "    You are given a list of input lines. \n",
        "    Make your neural network translate them.\n",
        "    :return: a list of output lines\n",
        "    \"\"\"\n",
        "    # Convert lines to a matrix of indices\n",
        "    lines_ix = inp_voc.to_matrix(lines)\n",
        "    lines_ix = torch.tensor(lines_ix, dtype=torch.int64)\n",
        "\n",
        "    # Compute translations in form of indices\n",
        "    trans_ix, _ = model.translate(lines_ix, True, max_len)  #<YOUR CODE >\n",
        "\n",
        "    # Convert translations back into strings\n",
        "    return out_voc.to_lines(trans_ix.data.numpy())"
      ],
      "execution_count": 15,
      "outputs": []
    },
    {
      "cell_type": "code",
      "metadata": {
        "id": "Pj6ovoQdIpju",
        "outputId": "784fe861-69db-4a0b-d3a5-9961cf7bc87a",
        "colab": {
          "base_uri": "https://localhost:8080/"
        }
      },
      "source": [
        "print(\"Sample inputs:\", all_words[:3])\n",
        "print(\"Dummy translations:\", translate(all_words[:3]))\n",
        "trans = translate(all_words[:3])\n",
        "\n",
        "assert translate(all_words[:3]) == translate(\n",
        "    all_words[:3]), \"make sure translation is deterministic (use greedy=True and disable any noise layers)\"\n",
        "assert type(translate(all_words[:3])) is list and (type(translate(all_words[:1])[0]) is str or type(\n",
        "    translate(all_words[:1])[0]) is unicode), \"translate(lines) must return a sequence of strings!\"\n",
        "# note: if translation freezes, make sure you used max_len parameter\n",
        "print(\"Tests passed!\")"
      ],
      "execution_count": 16,
      "outputs": [
        {
          "output_type": "stream",
          "text": [
            "Sample inputs: ['אנרכיזם' 'אוטיזם קלאסי' 'אלבדו']\n",
            "Dummy translations: ['č門ç–ç–یç̇ïç!!!!!!!å', 'č門ç–ç–یç̇ïç!!!!!!!å', 'č門ç–ç–یç̇ïç!!!!!!!å']\n",
            "Tests passed!\n"
          ],
          "name": "stdout"
        }
      ]
    },
    {
      "cell_type": "markdown",
      "metadata": {
        "id": "oDGqV7DxIpju"
      },
      "source": [
        "### Scoring function\n",
        "\n",
        "LogLikelihood is a poor estimator of model performance.\n",
        "* If we predict zero probability once, it shouldn't ruin entire model.\n",
        "* It is enough to learn just one translation if there are several correct ones.\n",
        "* What matters is how many mistakes model's gonna make when it translates!\n",
        "\n",
        "Therefore, we will use minimal Levenshtein distance. It measures how many characters do we need to add/remove/replace from model translation to make it perfect. Alternatively, one could use character-level BLEU/RougeL or other similar metrics.\n",
        "\n",
        "The catch here is that Levenshtein distance is not differentiable: it isn't even continuous. We can't train our neural network to maximize it by gradient descent."
      ]
    },
    {
      "cell_type": "code",
      "metadata": {
        "id": "UpHCe9rVIpjv"
      },
      "source": [
        "import editdistance  # !pip install editdistance\n",
        "\n",
        "\n",
        "def get_distance(word, trans):\n",
        "    \"\"\"\n",
        "    A function that takes word and predicted translation\n",
        "    and evaluates (Levenshtein's) edit distance to closest correct translation\n",
        "    \"\"\"\n",
        "    references = word_to_translation[word]\n",
        "    assert len(references) != 0, \"wrong/unknown word\"\n",
        "    return min(editdistance.eval(trans, ref) for ref in references)\n",
        "\n",
        "\n",
        "def score(words, bsize=100):\n",
        "    \"\"\"a function that computes levenshtein distance for bsize random samples\"\"\"\n",
        "    assert isinstance(words, np.ndarray)\n",
        "\n",
        "    batch_words = np.random.choice(words, size=bsize, replace=False)\n",
        "    batch_trans = translate(batch_words)\n",
        "\n",
        "    distances = list(map(get_distance, batch_words, batch_trans))\n",
        "\n",
        "    return np.array(distances, dtype='float32')"
      ],
      "execution_count": 17,
      "outputs": []
    },
    {
      "cell_type": "code",
      "metadata": {
        "id": "a3FB5aAVIpjv",
        "outputId": "44ada23e-4c1c-4773-83e4-b95d3c53b7b8",
        "colab": {
          "base_uri": "https://localhost:8080/"
        }
      },
      "source": [
        "# should be around 5-50 and decrease rapidly after training :)\n",
        "[score(test_words, 10).mean() for _ in range(5)]"
      ],
      "execution_count": 18,
      "outputs": [
        {
          "output_type": "execute_result",
          "data": {
            "text/plain": [
              "[19.0, 19.1, 19.1, 18.9, 19.0]"
            ]
          },
          "metadata": {
            "tags": []
          },
          "execution_count": 18
        }
      ]
    },
    {
      "cell_type": "markdown",
      "metadata": {
        "id": "Og3yoHgAIpjv"
      },
      "source": [
        "### Supervised pre-training\n",
        "\n",
        "Here we define a function that trains our model through maximizing log-likelihood a.k.a. minimizing crossentropy."
      ]
    },
    {
      "cell_type": "code",
      "metadata": {
        "id": "1bcyDhVMIpjw"
      },
      "source": [
        "import random\n",
        "\n",
        "\n",
        "def sample_batch(words, word_to_translation, batch_size):\n",
        "    \"\"\"\n",
        "    sample random batch of words and random correct translation for each word\n",
        "    example usage:\n",
        "    batch_x,batch_y = sample_batch(train_words, word_to_translations,10)\n",
        "    \"\"\"\n",
        "    # choose words\n",
        "    batch_words = np.random.choice(words, size=batch_size)\n",
        "\n",
        "    # choose translations\n",
        "    batch_trans_candidates = list(map(word_to_translation.get, batch_words))\n",
        "    batch_trans = list(map(random.choice, batch_trans_candidates))\n",
        "    return batch_words, batch_trans"
      ],
      "execution_count": 19,
      "outputs": []
    },
    {
      "cell_type": "code",
      "metadata": {
        "id": "jr8HUz5gIpjw",
        "outputId": "6cd0d1de-987e-4cce-d58c-613b9cf06bf6",
        "colab": {
          "base_uri": "https://localhost:8080/"
        }
      },
      "source": [
        "bx, by = sample_batch(train_words, word_to_translation, batch_size=3)\n",
        "print(\"Source:\")\n",
        "print(bx)\n",
        "print(\"Target:\")\n",
        "print(by)"
      ],
      "execution_count": 20,
      "outputs": [
        {
          "output_type": "stream",
          "text": [
            "Source:\n",
            "['אצטדיון המילניום' 'קטגוריה:כווית' 'שפת גוף']\n",
            "Target:\n",
            "['millennium stadium', 'kuwait', 'body language']\n"
          ],
          "name": "stdout"
        }
      ]
    },
    {
      "cell_type": "code",
      "metadata": {
        "id": "ht6j4uIQIpjx"
      },
      "source": [
        "from basic_model_torch import infer_length, infer_mask, to_one_hot\n",
        "\n",
        "\n",
        "def compute_loss_on_batch(input_sequence, reference_answers):\n",
        "    \"\"\" Compute crossentropy loss given a batch of sources and translations \"\"\"\n",
        "    input_sequence = torch.tensor(inp_voc.to_matrix(input_sequence), dtype=torch.int64)\n",
        "    reference_answers = torch.tensor(out_voc.to_matrix(reference_answers), dtype=torch.int64)\n",
        "\n",
        "    # Compute log-probabilities of all possible tokens at each step. Use model interface.\n",
        "    logprobs_seq = model(input_sequence, reference_answers) # YOUR CODE\n",
        "\n",
        "    # compute elementwise crossentropy as negative log-probabilities of reference_answers.\n",
        "    crossentropy = - \\\n",
        "        torch.sum(logprobs_seq *\n",
        "                  to_one_hot(reference_answers, len(out_voc)), dim=-1)\n",
        "    assert crossentropy.dim(\n",
        "    ) == 2, \"please return elementwise crossentropy, don't compute mean just yet\"\n",
        "\n",
        "    # average with mask\n",
        "    mask = infer_mask(reference_answers, out_voc.eos_ix)\n",
        "    loss = torch.sum(crossentropy * mask) / torch.sum(mask)\n",
        "\n",
        "    return loss"
      ],
      "execution_count": 22,
      "outputs": []
    },
    {
      "cell_type": "code",
      "metadata": {
        "id": "A4HZP_RkIpjx",
        "outputId": "e79bff4b-a43c-4864-c135-a0ff81eaaa7e",
        "colab": {
          "base_uri": "https://localhost:8080/"
        }
      },
      "source": [
        "# test it\n",
        "loss = compute_loss_on_batch(*sample_batch(train_words, word_to_translation, 3))\n",
        "print('loss = ', loss)\n",
        "\n",
        "assert loss.item() > 0.0\n",
        "loss.backward()\n",
        "for w in model.parameters():\n",
        "    assert w.grad is not None and torch.max(torch.abs(w.grad)).item() != 0, \\\n",
        "        \"Loss is not differentiable w.r.t. a weight with shape %s. Check comput_loss_on_batch.\" % (\n",
        "            w.size(),)\n",
        "print('Seems fine!')"
      ],
      "execution_count": 23,
      "outputs": [
        {
          "output_type": "stream",
          "text": [
            "loss =  tensor(5.2287, grad_fn=<DivBackward0>)\n",
            "Seems fine!\n"
          ],
          "name": "stdout"
        }
      ]
    },
    {
      "cell_type": "markdown",
      "metadata": {
        "id": "2I5mFDx0Ipjx"
      },
      "source": [
        "##### Actually train the model\n",
        "\n",
        "Minibatches and stuff..."
      ]
    },
    {
      "cell_type": "code",
      "metadata": {
        "id": "86iXu6fxIpjx"
      },
      "source": [
        "from IPython.display import clear_output\n",
        "from tqdm import tqdm, trange  # or use tqdm_notebook,tnrange\n",
        "\n",
        "loss_history = []\n",
        "editdist_history = []\n",
        "entropy_history = []\n",
        "opt = torch.optim.Adam(model.parameters())"
      ],
      "execution_count": 25,
      "outputs": []
    },
    {
      "cell_type": "code",
      "metadata": {
        "id": "BfLTtkhHIpjy",
        "outputId": "d45e9651-9c49-4e29-da45-553d7c8e4a07",
        "colab": {
          "base_uri": "https://localhost:8080/",
          "height": 315
        }
      },
      "source": [
        "\n",
        "\n",
        "for i in trange(5000):\n",
        "    loss = compute_loss_on_batch(*sample_batch(train_words, word_to_translation, 32))\n",
        "\n",
        "    # train with backprop\n",
        "    loss.backward()\n",
        "    opt.step()\n",
        "    opt.zero_grad()\n",
        "\n",
        "    loss_history.append(loss.item())\n",
        "\n",
        "    if (i+1) % REPORT_FREQ == 0:\n",
        "        clear_output(True)\n",
        "        current_scores = score(test_words)\n",
        "        editdist_history.append(current_scores.mean())\n",
        "        print(\"llh=%.3f, mean score=%.3f\" %\n",
        "              (np.mean(loss_history[-10:]), np.mean(editdist_history[-10:])))\n",
        "        plt.figure(figsize=(12, 4))\n",
        "        plt.subplot(131)\n",
        "        plt.title('train loss / traning time')\n",
        "        plt.plot(loss_history)\n",
        "        plt.grid()\n",
        "        plt.subplot(132)\n",
        "        plt.title('val score distribution')\n",
        "        plt.hist(current_scores, bins=20)\n",
        "        plt.subplot(133)\n",
        "        plt.title('val score / traning time (lower is better)')\n",
        "        plt.plot(editdist_history)\n",
        "        plt.grid()\n",
        "        plt.show()"
      ],
      "execution_count": 26,
      "outputs": [
        {
          "output_type": "stream",
          "text": [
            "llh=1.298, mean score=6.905\n"
          ],
          "name": "stdout"
        },
        {
          "output_type": "display_data",
          "data": {
            "image/png": "[encoded data removed]",
            "text/plain": [
              "<Figure size 864x288 with 3 Axes>"
            ]
          },
          "metadata": {
            "tags": [],
            "needs_background": "light"
          }
        },
        {
          "output_type": "stream",
          "text": [
            "100%|██████████| 5000/5000 [09:01<00:00,  9.23it/s]\n"
          ],
          "name": "stderr"
        }
      ]
    },
    {
      "cell_type": "markdown",
      "metadata": {
        "id": "OaOeZMuRIpjy"
      },
      "source": [
        "__How to interpret the plots:__\n",
        "\n",
        "* __Train loss__ - that's your model's crossentropy over minibatches. It should go down steadily. Most importantly, it shouldn't be NaN :)\n",
        "* __Val score distribution__ - distribution of translation edit distance (score) within batch. It should move to the left over time.\n",
        "* __Val score / training time__ - it's your current mean edit distance. This plot is much whimsier than loss, but make sure it goes below 8 by 2500 steps. \n",
        "\n",
        "If it doesn't, first try to re-create both model and opt. You may have changed it's weight too much while debugging. If that doesn't help, it's debugging time."
      ]
    },
    {
      "cell_type": "code",
      "metadata": {
        "id": "fGJ2K77SIpjy",
        "outputId": "4efcefe2-590c-4fc9-a978-6c12a1fe4d93",
        "colab": {
          "base_uri": "https://localhost:8080/"
        }
      },
      "source": [
        "for word in train_words[:10]:\n",
        "    print(\"%s -> %s\" % (word, translate([word])[0]))"
      ],
      "execution_count": 27,
      "outputs": [
        {
          "output_type": "stream",
          "text": [
            "כל אנשי סמיילי -> exime language\n",
            "קטגוריה:ערוץ 2 -> chersing the the th\n",
            "עבודה מהבית -> abbain the theory\n",
            "פראליה -> pralia\n",
            "קפלר 42 -> kaprall 24\n",
            "קטגוריה:מתאסלמים -> matalism\n",
            "בושמי -> bushmi\n",
            "לאונרדו -> leondra\n",
            "שאמה -> shama\n",
            "עכברה -> charba\n"
          ],
          "name": "stdout"
        }
      ]
    },
    {
      "cell_type": "code",
      "metadata": {
        "id": "Zkg7-ByOIpjy",
        "outputId": "d9f061be-8090-4035-8ec8-c63ae981944f",
        "colab": {
          "base_uri": "https://localhost:8080/"
        }
      },
      "source": [
        "test_scores = []\n",
        "for start_i in trange(0, len(test_words), 32):\n",
        "    batch_words = test_words[start_i:start_i+32]\n",
        "    batch_trans = translate(batch_words)\n",
        "    distances = list(map(get_distance, batch_words, batch_trans))\n",
        "    test_scores.extend(distances)\n",
        "\n",
        "print(\"Supervised test score:\", np.mean(test_scores))"
      ],
      "execution_count": 28,
      "outputs": [
        {
          "output_type": "stream",
          "text": [
            "100%|██████████| 407/407 [00:14<00:00, 28.86it/s]"
          ],
          "name": "stderr"
        },
        {
          "output_type": "stream",
          "text": [
            "Supervised test score: 7.084844758684292\n"
          ],
          "name": "stdout"
        },
        {
          "output_type": "stream",
          "text": [
            "\n"
          ],
          "name": "stderr"
        }
      ]
    },
    {
      "cell_type": "markdown",
      "metadata": {
        "id": "SOMAk5s_Ipjy"
      },
      "source": [
        "### Self-critical policy gradient\n",
        "\n",
        "In this section you'll implement algorithm called self-critical sequence training (here's an [article](https://arxiv.org/abs/1612.00563)).\n",
        "\n",
        "The algorithm is a vanilla policy gradient with a special baseline. \n",
        "\n",
        "$$ \\nabla J = E_{x \\sim p(s)} E_{y \\sim \\pi(y|x)} \\nabla log \\pi(y|x) \\cdot (R(x,y) - b(x)) $$\n",
        "\n",
        "Here reward R(x,y) is a __negative levenshtein distance__ (since we minimize it). The baseline __b(x)__ represents how well model fares on word __x__.\n",
        "\n",
        "In practice, this means that we compute baseline as a score of greedy translation, $b(x) = R(x,y_{greedy}(x)) $.\n",
        "\n",
        "![img](https://github.com/yandexdataschool/Practical_RL/raw/master/yet_another_week/_resource/scheme.png)\n",
        "\n",
        "\n",
        "Luckily, we already obtained the required outputs: `model.greedy_translations, model.greedy_mask` and we only need to compute levenshtein using `compute_levenshtein` function.\n"
      ]
    },
    {
      "cell_type": "code",
      "metadata": {
        "id": "d61DVe8qIpjy"
      },
      "source": [
        "def compute_reward(input_sequence, translations):\n",
        "    \"\"\" computes sample-wise reward given token ids for inputs and translations \"\"\"\n",
        "    distances = list(map(get_distance,\n",
        "                         inp_voc.to_lines(input_sequence.data.numpy()),\n",
        "                         out_voc.to_lines(translations.data.numpy())))\n",
        "    # use negative levenshtein distance so that larger reward means better policy\n",
        "    return - torch.tensor(distances, dtype=torch.int64)"
      ],
      "execution_count": 29,
      "outputs": []
    },
    {
      "cell_type": "code",
      "metadata": {
        "id": "H6k0_J5UIpjy"
      },
      "source": [
        "def scst_objective_on_batch(input_sequence, max_len=MAX_OUTPUT_LENGTH):\n",
        "    \"\"\" Compute pseudo-loss for policy gradient given a batch of sources \"\"\"\n",
        "    input_sequence = torch.tensor(inp_voc.to_matrix(input_sequence), dtype=torch.int64)\n",
        "\n",
        "    # use model to __sample__ symbolic translations given input_sequence\n",
        "    sample_translations, sample_logp = model.translate(input_sequence, False, max_len) # YOUR CODE\n",
        "    # use model to __greedy__ symbolic translations given input_sequence\n",
        "    greedy_translations, greedy_logp = model.translate(input_sequence, True, max_len) # YOUR CODE\n",
        "\n",
        "    # compute rewards and advantage\n",
        "    rewards = compute_reward(input_sequence, sample_translations)\n",
        "    baseline = compute_reward(input_sequence, greedy_translations) #<compute __negative__ levenshtein for greedy mode >\n",
        "\n",
        "    # compute advantage using rewards and baseline\n",
        "    advantage = (rewards - baseline) # YOUR CODE\n",
        "\n",
        "    # compute log_pi(a_t|s_t), shape = [batch, seq_length]\n",
        "    #logp_sample = model(input_sequence, sample_translations) # YOUR CODE\n",
        "    logp_sample = sample_logp\n",
        "    logp_indexed = torch.gather(sample_logp, dim=2, index=sample_translations[:,:, None])\n",
        "\n",
        "    # ^-- hint: look at how crossentropy is implemented in supervised learning loss above\n",
        "    # mind the sign - this one should not be multiplied by -1 :)\n",
        "\n",
        "    # policy gradient pseudo-loss. Gradient of J is exactly policy gradient.\n",
        "    J = logp_sample * advantage[:, None]\n",
        "\n",
        "    assert J.dim() == 2, \"please return elementwise objective, don't compute mean just yet\"\n",
        "\n",
        "    # average with mask\n",
        "    mask = infer_mask(sample_translations, out_voc.eos_ix)\n",
        "    loss = - torch.sum(J * mask) / torch.sum(mask)\n",
        "\n",
        "    # regularize with negative entropy. Don't forget the sign!\n",
        "    # note: for entropy you need probabilities for all tokens (sample_logp), not just logp_sample\n",
        "    entropy = - torch.sum(torch.exp(logp_sample) * logp_sample, dim=-1) #<compute entropy matrix of shape[batch, seq_length], H = -sum(p*log_p), don't forget the sign!>\n",
        "    # hint: you can get sample probabilities from sample_logp using math :)\n",
        "\n",
        "    assert entropy.dim(\n",
        "    ) == 2, \"please make sure elementwise entropy is of shape [batch,time]\"\n",
        "\n",
        "    reg = - 0.01 * torch.sum(entropy * mask) / torch.sum(mask)\n",
        "\n",
        "    return loss + reg, torch.sum(entropy * mask) / torch.sum(mask)"
      ],
      "execution_count": null,
      "outputs": []
    },
    {
      "cell_type": "markdown",
      "metadata": {
        "id": "GtYb6lrhIpjz"
      },
      "source": [
        "### Policy gradient training\n"
      ]
    },
    {
      "cell_type": "code",
      "metadata": {
        "id": "yeD9Las8Ipjz"
      },
      "source": [
        "entropy_history = [np.nan] * len(loss_history)\n",
        "opt = torch.optim.Adam(model.parameters(), lr=1e-5)"
      ],
      "execution_count": null,
      "outputs": []
    },
    {
      "cell_type": "code",
      "metadata": {
        "id": "MitopnmZIpjz"
      },
      "source": [
        "for i in trange(100000):\n",
        "    loss, ent = scst_objective_on_batch(\n",
        "        sample_batch(train_words, word_to_translation, 32)[0])  # [0] = only source sentence\n",
        "\n",
        "    # train with backprop\n",
        "    loss.backward()\n",
        "    opt.step()\n",
        "    opt.zero_grad()\n",
        "\n",
        "    loss_history.append(loss.item())\n",
        "    entropy_history.append(ent.item())\n",
        "\n",
        "    if (i+1) % REPORT_FREQ == 0:\n",
        "        clear_output(True)\n",
        "        current_scores = score(test_words)\n",
        "        editdist_history.append(current_scores.mean())\n",
        "        plt.figure(figsize=(12, 4))\n",
        "        plt.subplot(131)\n",
        "        plt.title('val score distribution')\n",
        "        plt.hist(current_scores, bins=20)\n",
        "        plt.subplot(132)\n",
        "        plt.title('val score / traning time')\n",
        "        plt.plot(editdist_history)\n",
        "        plt.grid()\n",
        "        plt.subplot(133)\n",
        "        plt.title('policy entropy / traning time')\n",
        "        plt.plot(entropy_history)\n",
        "        plt.grid()\n",
        "        plt.show()\n",
        "        print(\"J=%.3f, mean score=%.3f\" %\n",
        "              (np.mean(loss_history[-10:]), np.mean(editdist_history[-10:])))"
      ],
      "execution_count": null,
      "outputs": []
    },
    {
      "cell_type": "markdown",
      "metadata": {
        "id": "GF5eQrr_Ipjz"
      },
      "source": [
        "__Debugging tips:__\n",
        "![img](https://github.com/yandexdataschool/Practical_RL/raw/master/yet_another_week/_resource/do_something_scst.png)\n",
        "\n",
        " * As usual, don't expect improvements right away, but in general the model should be able to show some positive changes by 5k steps.\n",
        " * Entropy is a good indicator of many problems. \n",
        "   * If it reaches zero, you may need greater entropy regularizer.\n",
        "   * If it has rapid changes time to time, you may need gradient clipping.\n",
        "   * If it oscillates up and down in an erratic manner... it's perfectly okay for entropy to do so. But it should decrease at the end.\n",
        "   \n",
        " * We don't show loss_history cuz it's uninformative for pseudo-losses in policy gradient. However, if something goes wrong you can check it to see if everything isn't a constant zero."
      ]
    },
    {
      "cell_type": "markdown",
      "metadata": {
        "id": "IpPe4VjeIpjz"
      },
      "source": [
        "### Results"
      ]
    },
    {
      "cell_type": "code",
      "metadata": {
        "id": "_WBEpoLPIpjz"
      },
      "source": [
        "for word in train_words[:10]:\n",
        "    print(\"%s -> %s\" % (word, translate([word])[0]))"
      ],
      "execution_count": null,
      "outputs": []
    },
    {
      "cell_type": "code",
      "metadata": {
        "id": "cgCbWG9GIpj0"
      },
      "source": [
        "test_scores = []\n",
        "for start_i in trange(0, len(test_words), 32):\n",
        "    batch_words = test_words[start_i:start_i+32]\n",
        "    batch_trans = translate(batch_words)\n",
        "    distances = list(map(get_distance, batch_words, batch_trans))\n",
        "    test_scores.extend(distances)\n",
        "print(\"Supervised test score:\", np.mean(test_scores))\n",
        "\n",
        "# ^^ If you get Out Of MemoryError, please replace this with batched computation"
      ],
      "execution_count": null,
      "outputs": []
    },
    {
      "cell_type": "markdown",
      "metadata": {
        "id": "g-YKeCn2Ipj0"
      },
      "source": [
        "### Bonus area: Make it actually work\n",
        "\n",
        "In this section we want you to finally __restart with EASY_MODE=False__ and experiment to find a good model/curriculum for that task.\n",
        "\n",
        "We recommend you to start with the following architecture\n",
        "\n",
        "```\n",
        "encoder---decoder\n",
        "\n",
        "           P(y|h)\n",
        "             ^\n",
        " LSTM  ->   LSTM\n",
        "  ^          ^\n",
        " biLSTM  ->   LSTM\n",
        "  ^          ^\n",
        "input       y_prev\n",
        "```\n",
        "\n",
        "__Note:__ you can fit all 4 state tensors of both LSTMs into a in a single state - just assume that it contains, for example, [h0, c0, h1, c1] - pack it in encode and update in decode.\n",
        "\n",
        "\n",
        "Here are some cool ideas on what you can do then.\n",
        "\n",
        "__General tips & tricks:__\n",
        "* You will likely need to adjust pre-training time for such a network.\n",
        "* Supervised pre-training may benefit from clipping gradients somehow.\n",
        "* SCST may indulge a higher learning rate in some cases and changing entropy regularizer over time.\n",
        "* It's often useful to save pre-trained model parameters to not re-train it every time you want new policy gradient parameters. \n",
        "* When leaving training for nighttime, try setting REPORT_FREQ to a larger value (e.g. 500) not to waste time on it.\n",
        "\n",
        "__Formal criteria:__\n",
        "Build an architecture that:\n",
        "* _doesn't consist of single GRU_\n",
        "* _works better_ than single GRU baseline. \n",
        "* We also want you to provide either learning curve or trained model, preferably both\n",
        "* ... and write a brief report or experiment log describing what you did and how it fared.\n",
        "\n",
        "### Attention\n",
        "There's more than one way to connect decoder to encoder\n",
        "  * __Vanilla:__ layer_i of encoder last state goes to layer_i of decoder initial state\n",
        "  * __Every tick:__ feed encoder last state _on every iteration_ of decoder.\n",
        "  * __Attention:__ allow decoder to \"peek\" at one (or several) positions of encoded sequence on every tick.\n",
        "  \n",
        "The most effective (and cool) of those is, of course, attention.\n",
        "You can read more about attention [in this nice blog post](https://distill.pub/2016/augmented-rnns/). The easiest way to begin is to use \"soft\" attention with \"additive\" or \"dot-product\" intermediate layers.\n",
        "\n",
        "__Tips__\n",
        "* Model usually generalizes better if you no longer allow decoder to see final encoder state\n",
        "* Once your model made it through several epochs, it is a good idea to visualize attention maps to understand what your model has actually learned\n",
        "\n",
        "* There's more stuff [here](https://github.com/yandexdataschool/Practical_RL/blob/master/week8_scst/bonus.ipynb)\n",
        "* If you opted for hard attention, we recommend [gumbel-softmax](https://blog.evjang.com/2016/11/tutorial-categorical-variational.html) instead of sampling. Also please make sure soft attention works fine before you switch to hard.\n",
        "\n",
        "### UREX\n",
        "* This is a way to improve exploration in policy-based settings. The main idea is that you find and upweight under-appreciated actions.\n",
        "* Here's [video](https://www.youtube.com/watch?v=fZNyHoXgV7M&feature=youtu.be&t=3444)\n",
        " and an [article](https://arxiv.org/abs/1611.09321).\n",
        "* You may want to reduce batch size 'cuz UREX requires you to sample multiple times per source sentence.\n",
        "* Once you got it working, try using experience replay with importance sampling instead of (in addition to) basic UREX.\n",
        "\n",
        "### Some additional ideas:\n",
        "* (advanced deep learning) It may be a good idea to first train on small phrases and then adapt to larger ones (a.k.a. training curriculum).\n",
        "* (advanced nlp) You may want to switch from raw utf8 to something like unicode or even syllables to make task easier.\n",
        "* (advanced nlp) Since hebrew words are written __with vowels omitted__, you may want to use a small Hebrew vowel markup dataset at `he-pron-wiktionary.txt`.\n",
        "\n"
      ]
    },
    {
      "cell_type": "code",
      "metadata": {
        "id": "RQ10iHeaIpj0"
      },
      "source": [
        "assert not EASY_MODE, \"make sure you set EASY_MODE = False at the top of the notebook.\""
      ],
      "execution_count": null,
      "outputs": []
    },
    {
      "cell_type": "markdown",
      "metadata": {
        "id": "VRZgFm5cIpj0"
      },
      "source": [
        "`[your report/log here or anywhere you please]`"
      ]
    },
    {
      "cell_type": "markdown",
      "metadata": {
        "id": "il1k9QDzIpj0"
      },
      "source": [
        "__Contributions:__ This notebook is brought to you by\n",
        "* Yandex [MT team](https://tech.yandex.com/translate/)\n",
        "* Denis Mazur ([DeniskaMazur](https://github.com/DeniskaMazur)), Oleg Vasilev ([Omrigan](https://github.com/Omrigan/)), Dmitry Emelyanenko ([TixFeniks](https://github.com/tixfeniks)) and Fedor Ratnikov ([justheuristic](https://github.com/justheuristic/))\n",
        "* Dataset is parsed from [Wiktionary](https://en.wiktionary.org), which is under CC-BY-SA and GFDL licenses.\n"
      ]
    }
  ]
}