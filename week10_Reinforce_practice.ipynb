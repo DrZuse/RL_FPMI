{
  "nbformat": 4,
  "nbformat_minor": 0,
  "metadata": {
    "kernelspec": {
      "display_name": "Py3 research env",
      "language": "python",
      "name": "py3_research"
    },
    "language_info": {
      "codemirror_mode": {
        "name": "ipython",
        "version": 3
      },
      "file_extension": ".py",
      "mimetype": "text/x-python",
      "name": "python",
      "nbconvert_exporter": "python",
      "pygments_lexer": "ipython3",
      "version": "3.6.7"
    },
    "colab": {
      "name": "week10_Reinforce_practice.ipynb",
      "provenance": [],
      "include_colab_link": true
    }
  },
  "cells": [
    {
      "cell_type": "markdown",
      "metadata": {
        "id": "view-in-github",
        "colab_type": "text"
      },
      "source": [
        "<a href=\"https://colab.research.google.com/github/DrZuse/RL_FPMI/blob/main/week10_Reinforce_practice.ipynb\" target=\"_parent\"><img src=\"https://colab.research.google.com/assets/colab-badge.svg\" alt=\"Open In Colab\"/></a>"
      ]
    },
    {
      "cell_type": "markdown",
      "metadata": {
        "id": "qOWRbVh0lp3r"
      },
      "source": [
        "## week10\n",
        "### REINFORCE in PyTorch\n",
        "__This notebook is based on [Practical_RL week06](https://github.com/yandexdataschool/Practical_RL/tree/master/week06_policy_based) materials__\n",
        "\n",
        "Just like we did before for q-learning, this time we'll design a pytorch network to learn `CartPole-v0` via policy gradient (REINFORCE).\n",
        "\n",
        "Most of the code in this notebook is taken from approximate qlearning, so you'll find it more or less familiar and even simpler."
      ]
    },
    {
      "cell_type": "code",
      "metadata": {
        "id": "7r_35b3Elp3x",
        "colab": {
          "base_uri": "https://localhost:8080/"
        },
        "outputId": "a3968110-8fb2-4da8-8867-9da6519fa9cb"
      },
      "source": [
        "# # in google colab uncomment this\n",
        "\n",
        "import os\n",
        "\n",
        "os.system('apt-get install -y xvfb')\n",
        "os.system('wget https://raw.githubusercontent.com/yandexdataschool/Practical_DL/fall18/xvfb -O ../xvfb')\n",
        "os.system('apt-get install -y python-opengl ffmpeg')\n",
        "os.system('pip install pyglet')\n",
        "\n",
        "os.system('python -m pip install -U pygame --user')\n",
        "\n",
        "print('setup complete')\n",
        "\n",
        "# XVFB will be launched if you run on a server\n",
        "import os\n",
        "if type(os.environ.get(\"DISPLAY\")) is not str or len(os.environ.get(\"DISPLAY\")) == 0:\n",
        "    !bash ../xvfb start\n",
        "    %env DISPLAY = : 1"
      ],
      "execution_count": 1,
      "outputs": [
        {
          "output_type": "stream",
          "text": [
            "setup complete\n",
            "Starting virtual X frame buffer: Xvfb.\n",
            "env: DISPLAY=: 1\n"
          ],
          "name": "stdout"
        }
      ]
    },
    {
      "cell_type": "code",
      "metadata": {
        "id": "d4wXZMQglp3y",
        "colab": {
          "base_uri": "https://localhost:8080/",
          "height": 286
        },
        "outputId": "682ccd58-b0b0-4173-faa5-a0b3492e38bb"
      },
      "source": [
        "import gym\n",
        "import numpy as np\n",
        "import pandas as pd\n",
        "import matplotlib.pyplot as plt\n",
        "%matplotlib inline\n",
        "\n",
        "env = gym.make(\"CartPole-v0\").env\n",
        "example_state = env.reset()\n",
        "\n",
        "plt.imshow(env.render(\"rgb_array\"))"
      ],
      "execution_count": 2,
      "outputs": [
        {
          "output_type": "execute_result",
          "data": {
            "text/plain": [
              "<matplotlib.image.AxesImage at 0x7f410b528fd0>"
            ]
          },
          "metadata": {
            "tags": []
          },
          "execution_count": 2
        },
        {
          "output_type": "display_data",
          "data": {
            "image/png": "[encoded data removed]",
            "text/plain": [
              "<Figure size 432x288 with 1 Axes>"
            ]
          },
          "metadata": {
            "tags": [],
            "needs_background": "light"
          }
        }
      ]
    },
    {
      "cell_type": "markdown",
      "metadata": {
        "id": "kFITZ02Clp3z"
      },
      "source": [
        "# Building the network for REINFORCE"
      ]
    },
    {
      "cell_type": "markdown",
      "metadata": {
        "id": "AqLovRtblp3z"
      },
      "source": [
        "For REINFORCE algorithm, we'll need a model that predicts action probabilities given states. Let's define such a model below."
      ]
    },
    {
      "cell_type": "code",
      "metadata": {
        "collapsed": true,
        "id": "0cZz7CHUlp3z"
      },
      "source": [
        "import torch\n",
        "import torch.nn as nn"
      ],
      "execution_count": 3,
      "outputs": []
    },
    {
      "cell_type": "code",
      "metadata": {
        "id": "Ry7i3kYjoC2v"
      },
      "source": [
        "sample = env.reset()\r\n",
        "state_dim = sample.shape[0]\r\n",
        "n_actions = env.action_space.n"
      ],
      "execution_count": 4,
      "outputs": []
    },
    {
      "cell_type": "code",
      "metadata": {
        "collapsed": true,
        "id": "_Ee7T26nlp30"
      },
      "source": [
        "# Build a simple neural network that predicts policy logits. \n",
        "# Keep it simple: CartPole isn't worth deep architectures.\n",
        "model = nn.Sequential(\n",
        "  #< YOUR CODE HERE: define a neural network that predicts policy logits >\n",
        "  nn.Linear(state_dim, 128),\n",
        "  nn.ReLU(),\n",
        "  nn.Linear(128, 64),\n",
        "  nn.ReLU(),\n",
        "  nn.Linear(64, n_actions)\n",
        ")"
      ],
      "execution_count": 5,
      "outputs": []
    },
    {
      "cell_type": "markdown",
      "metadata": {
        "id": "qIanbhg3lp30"
      },
      "source": [
        "#### Predict function"
      ]
    },
    {
      "cell_type": "code",
      "metadata": {
        "id": "veGoMV0fqy5i"
      },
      "source": [
        "from torch.nn import functional as F"
      ],
      "execution_count": 6,
      "outputs": []
    },
    {
      "cell_type": "code",
      "metadata": {
        "collapsed": true,
        "id": "kFzNrmCGlp30"
      },
      "source": [
        "def predict_probs(states):\n",
        "    \"\"\" \n",
        "    Predict action probabilities given states.\n",
        "    :param states: numpy array of shape [batch, state_shape]\n",
        "    :returns: numpy array of shape [batch, n_actions]\n",
        "    \"\"\"\n",
        "    # convert states, compute logits, use softmax to get probability\n",
        "    #<your code here >\n",
        "    states = torch.FloatTensor(states)\n",
        "    logits = model(states).detach()\n",
        "    probs = F.softmax(logits, dim=-1).numpy()\n",
        "    return probs #< your code >"
      ],
      "execution_count": 7,
      "outputs": []
    },
    {
      "cell_type": "code",
      "metadata": {
        "id": "T4nJA0M1lp31"
      },
      "source": [
        "test_states = np.array([env.reset() for _ in range(5)])\n",
        "test_probas = predict_probs(test_states)\n",
        "assert isinstance(\n",
        "    test_probas, np.ndarray), \"you must return np array and not %s\" % type(test_probas)\n",
        "assert tuple(test_probas.shape) == (\n",
        "    test_states.shape[0], env.action_space.n), \"wrong output shape: %s\" % np.shape(test_probas)\n",
        "assert np.allclose(np.sum(test_probas, axis=1),\n",
        "                   1), \"probabilities do not sum to 1\""
      ],
      "execution_count": 8,
      "outputs": []
    },
    {
      "cell_type": "markdown",
      "metadata": {
        "id": "2DzvTtj8lp31"
      },
      "source": [
        "### Play the game\n",
        "\n",
        "We can now use our newly built agent to play the game."
      ]
    },
    {
      "cell_type": "code",
      "metadata": {
        "collapsed": true,
        "id": "HYP1EEV9lp31"
      },
      "source": [
        "def generate_session(t_max=1000):\n",
        "    \"\"\" \n",
        "    play a full session with REINFORCE agent and train at the session end.\n",
        "    returns sequences of states, actions and rewards\n",
        "    \"\"\"\n",
        "    # arrays to record session\n",
        "    states, actions, rewards = [], [], []\n",
        "    s = env.reset()\n",
        "\n",
        "    for t in range(t_max):\n",
        "        # action probabilities array aka pi(a|s)\n",
        "        action_probs = predict_probs(np.array([s]))[0]\n",
        "\n",
        "        # Sample action with given probabilities.\n",
        "        a = np.random.choice(\n",
        "            np.arange(n_actions),\n",
        "            p=action_probs\n",
        "        ) #< your code >\n",
        "        new_s, r, done, info = env.step(a)\n",
        "\n",
        "        # record session history to train later\n",
        "        states.append(s)\n",
        "        actions.append(a)\n",
        "        rewards.append(r)\n",
        "\n",
        "        s = new_s\n",
        "        if done:\n",
        "            break\n",
        "\n",
        "    return states, actions, rewards"
      ],
      "execution_count": 9,
      "outputs": []
    },
    {
      "cell_type": "code",
      "metadata": {
        "collapsed": true,
        "id": "JIZ6VsUZlp31",
        "colab": {
          "base_uri": "https://localhost:8080/"
        },
        "outputId": "e2a3ed9b-70dc-41b1-e06b-0c8624ceb897"
      },
      "source": [
        "# test it\n",
        "states, actions, rewards = generate_session()\n",
        "print(f'states {states} \\n actions {actions} \\n rewards {rewards}')"
      ],
      "execution_count": 10,
      "outputs": [
        {
          "output_type": "stream",
          "text": [
            "states [array([-0.0125094 ,  0.03195347,  0.01767269, -0.04366204]), array([-0.01187034, -0.16341738,  0.01679945,  0.25454398]), array([-0.01513868, -0.35877512,  0.02189033,  0.55247804]), array([-0.02231419, -0.55419754,  0.03293989,  0.85197669]), array([-0.03339814, -0.74975272,  0.04997943,  1.1548329 ]), array([-0.04839319, -0.9454895 ,  0.07307608,  1.46275929]), array([-0.06730298, -1.14142691,  0.10233127,  1.77734626]), array([-0.09013152, -0.94759549,  0.13787819,  1.51815302]), array([-0.10908343, -1.14408921,  0.16824125,  1.85050434]), array([-0.13196521, -1.34061609,  0.20525134,  2.19036237])] \n",
            " actions [0, 0, 0, 0, 0, 0, 1, 0, 0, 1] \n",
            " rewards [1.0, 1.0, 1.0, 1.0, 1.0, 1.0, 1.0, 1.0, 1.0, 1.0]\n"
          ],
          "name": "stdout"
        }
      ]
    },
    {
      "cell_type": "markdown",
      "metadata": {
        "id": "gi1wYcvDlp32"
      },
      "source": [
        "### Computing cumulative rewards"
      ]
    },
    {
      "cell_type": "code",
      "metadata": {
        "id": "1NGMbJ2Mlp32"
      },
      "source": [
        "def get_cumulative_rewards(rewards,  # rewards at each step\n",
        "                           gamma=0.99  # discount for reward\n",
        "                           ):\n",
        "    \"\"\"\n",
        "    take a list of immediate rewards r(s,a) for the whole session \n",
        "    compute cumulative returns (a.k.a. G(s,a) in Sutton '16)\n",
        "    G_t = r_t + gamma*r_{t+1} + gamma^2*r_{t+2} + ...\n",
        "\n",
        "    The simple way to compute cumulative rewards is to iterate from last to first time tick\n",
        "    and compute G_t = r_t + gamma*G_{t+1} recurrently\n",
        "\n",
        "    You must return an array/list of cumulative rewards with as many elements as in the initial rewards.\n",
        "    \"\"\"\n",
        "    #<your code here >\n",
        "\n",
        "    G = np.zeros_like(rewards, dtype=float)\n",
        "    G[-1] = rewards[-1]\n",
        "    for idx in range(-2, -len(rewards)-1, -1):\n",
        "        G[idx] = rewards[idx] + gamma * G[idx+1]\n",
        "    return G #< array of cumulative rewards >"
      ],
      "execution_count": 11,
      "outputs": []
    },
    {
      "cell_type": "code",
      "metadata": {
        "id": "elpbx68Jlp32",
        "colab": {
          "base_uri": "https://localhost:8080/"
        },
        "outputId": "0a433229-bb97-4c05-e891-a5163004cf54"
      },
      "source": [
        "get_cumulative_rewards(rewards)\n",
        "assert len(get_cumulative_rewards(list(range(100)))) == 100\n",
        "assert np.allclose(get_cumulative_rewards([0, 0, 1, 0, 0, 1, 0], gamma=0.9), [\n",
        "                   1.40049, 1.5561, 1.729, 0.81, 0.9, 1.0, 0.0])\n",
        "assert np.allclose(get_cumulative_rewards(\n",
        "    [0, 0, 1, -2, 3, -4, 0], gamma=0.5), [0.0625, 0.125, 0.25, -1.5, 1.0, -4.0, 0.0])\n",
        "assert np.allclose(get_cumulative_rewards(\n",
        "    [0, 0, 1, 2, 3, 4, 0], gamma=0), [0, 0, 1, 2, 3, 4, 0])\n",
        "print(\"looks good!\")"
      ],
      "execution_count": 12,
      "outputs": [
        {
          "output_type": "stream",
          "text": [
            "looks good!\n"
          ],
          "name": "stdout"
        }
      ]
    },
    {
      "cell_type": "markdown",
      "metadata": {
        "id": "eSO-TG10lp32"
      },
      "source": [
        "#### Loss function and updates\n",
        "\n",
        "We now need to define objective and update over policy gradient.\n",
        "\n",
        "Our objective function is\n",
        "\n",
        "$$ J \\approx  { 1 \\over N } \\sum  _{s_i,a_i} \\pi_\\theta (a_i | s_i) \\cdot G(s_i,a_i) $$\n",
        "\n",
        "\n",
        "Following the REINFORCE algorithm, we can define our objective as follows: \n",
        "\n",
        "$$ \\hat J \\approx { 1 \\over N } \\sum  _{s_i,a_i} log \\pi_\\theta (a_i | s_i) \\cdot G(s_i,a_i) $$\n",
        "\n",
        "When you compute gradient of that function over network weights $ \\theta $, it will become exactly the policy gradient.\n"
      ]
    },
    {
      "cell_type": "code",
      "metadata": {
        "collapsed": true,
        "id": "WHCgVrwklp33"
      },
      "source": [
        "def to_one_hot(y_tensor, ndims):\n",
        "    \"\"\" helper: take an integer vector and convert it to 1-hot matrix. \"\"\"\n",
        "    y_tensor = y_tensor.type(torch.LongTensor).view(-1, 1)\n",
        "    y_one_hot = torch.zeros(\n",
        "        y_tensor.size()[0], ndims).scatter_(1, y_tensor, 1)\n",
        "    return y_one_hot"
      ],
      "execution_count": 13,
      "outputs": []
    },
    {
      "cell_type": "code",
      "metadata": {
        "collapsed": true,
        "id": "Og0Uqcfqlp33"
      },
      "source": [
        "# Your code: define optimizers\n",
        "optimizer = torch.optim.Adam(model.parameters(), 1e-3)\n",
        "\n",
        "\n",
        "def train_on_session(states, actions, rewards, gamma=0.99, entropy_coef=1e-3):\n",
        "    \"\"\"\n",
        "    Takes a sequence of states, actions and rewards produced by generate_session.\n",
        "    Updates agent's weights by following the policy gradient above.\n",
        "    Please use Adam optimizer with default parameters.\n",
        "    \"\"\"\n",
        "\n",
        "    # cast everything into torch tensors\n",
        "    states = torch.tensor(states, dtype=torch.float32)\n",
        "    actions = torch.tensor(actions, dtype=torch.int32)\n",
        "    cumulative_returns = np.array(get_cumulative_rewards(rewards, gamma))\n",
        "    cumulative_returns = torch.tensor(cumulative_returns, dtype=torch.float32)\n",
        "\n",
        "    # predict logits, probas and log-probas using an agent.\n",
        "    logits = model(states)\n",
        "    probs = nn.functional.softmax(logits, -1)\n",
        "    log_probs = nn.functional.log_softmax(logits, -1)\n",
        "\n",
        "    assert all(isinstance(v, torch.Tensor) for v in [logits, probs, log_probs]), \\\n",
        "        \"please use compute using torch tensors and don't use predict_probs function\"\n",
        "\n",
        "    # select log-probabilities for chosen actions, log pi(a_i|s_i)\n",
        "    log_probs_for_actions = torch.sum(\n",
        "        log_probs * to_one_hot(actions, env.action_space.n), dim=1)\n",
        "   \n",
        "    # Compute loss here. Don't forget entropy regularization with `entropy_coef` \n",
        "    entropy = - torch.mean(torch.sum(probs * log_probs), dim=-1) #< your code >\n",
        "    loss = - torch.mean(log_probs_for_actions * cumulative_returns) - entropy * entropy_coef  #< your code\n",
        "\n",
        "    # Gradient descent step\n",
        "    loss.backward()\n",
        "    optimizer.step()\n",
        "    optimizer.zero_grad()\n",
        "    #< your code >\n",
        "\n",
        "    # technical: return session rewards to print them later\n",
        "    return np.sum(rewards)"
      ],
      "execution_count": 14,
      "outputs": []
    },
    {
      "cell_type": "markdown",
      "metadata": {
        "id": "BNzKdUwLlp33"
      },
      "source": [
        "### The actual training"
      ]
    },
    {
      "cell_type": "code",
      "metadata": {
        "scrolled": true,
        "id": "qM0MM53_lp34",
        "colab": {
          "base_uri": "https://localhost:8080/"
        },
        "outputId": "dfd0d6b5-55fa-4b95-e415-765e8eeb8ab2"
      },
      "source": [
        "for i in range(100):\n",
        "    rewards = [train_on_session(*generate_session())\n",
        "               for _ in range(100)]  # generate new sessions\n",
        "    print(\"mean reward:%.3f\" % (np.mean(rewards)))\n",
        "    if np.mean(rewards) > 500:\n",
        "        print(\"You Win!\")  # but you can train even further\n",
        "        break"
      ],
      "execution_count": 15,
      "outputs": [
        {
          "output_type": "stream",
          "text": [
            "mean reward:26.690\n",
            "mean reward:24.950\n",
            "mean reward:46.730\n",
            "mean reward:87.810\n",
            "mean reward:63.090\n",
            "mean reward:201.910\n",
            "mean reward:133.330\n",
            "mean reward:88.810\n",
            "mean reward:57.850\n",
            "mean reward:59.890\n",
            "mean reward:131.890\n",
            "mean reward:274.290\n",
            "mean reward:271.380\n",
            "mean reward:150.520\n",
            "mean reward:115.650\n",
            "mean reward:15.350\n",
            "mean reward:9.770\n",
            "mean reward:9.920\n",
            "mean reward:9.660\n",
            "mean reward:9.960\n",
            "mean reward:9.880\n",
            "mean reward:12.290\n",
            "mean reward:10.250\n",
            "mean reward:164.920\n",
            "mean reward:214.560\n",
            "mean reward:848.820\n",
            "You Win!\n"
          ],
          "name": "stdout"
        }
      ]
    },
    {
      "cell_type": "markdown",
      "metadata": {
        "id": "WmPkluuklp34"
      },
      "source": [
        "### Video"
      ]
    },
    {
      "cell_type": "code",
      "metadata": {
        "id": "2vjMVi9Rlp35"
      },
      "source": [
        "# record sessions\n",
        "import gym.wrappers\n",
        "env = gym.wrappers.Monitor(gym.make(\"CartPole-v0\"),\n",
        "                           directory=\"videos\", force=True)\n",
        "sessions = [generate_session() for _ in range(100)]\n",
        "env.close()"
      ],
      "execution_count": 16,
      "outputs": []
    },
    {
      "cell_type": "code",
      "metadata": {
        "id": "fyzf_lZQlp35",
        "colab": {
          "resources": {
            "http://localhost:8080/videos/openaigym.video.0.1361.video000000.mp4": {
              "data": "CjwhRE9DVFlQRSBodG1sPgo8aHRtbCBsYW5nPWVuPgogIDxtZXRhIGNoYXJzZXQ9dXRmLTg+CiAgPG1ldGEgbmFtZT12aWV3cG9ydCBjb250ZW50PSJpbml0aWFsLXNjYWxlPTEsIG1pbmltdW0tc2NhbGU9MSwgd2lkdGg9ZGV2aWNlLXdpZHRoIj4KICA8dGl0bGU+RXJyb3IgNDA0IChOb3QgRm91bmQpISExPC90aXRsZT4KICA8c3R5bGU+CiAgICAqe21hcmdpbjowO3BhZGRpbmc6MH1odG1sLGNvZGV7Zm9udDoxNXB4LzIycHggYXJpYWwsc2Fucy1zZXJpZn1odG1se2JhY2tncm91bmQ6I2ZmZjtjb2xvcjojMjIyO3BhZGRpbmc6MTVweH1ib2R5e21hcmdpbjo3JSBhdXRvIDA7bWF4LXdpZHRoOjM5MHB4O21pbi1oZWlnaHQ6MTgwcHg7cGFkZGluZzozMHB4IDAgMTVweH0qID4gYm9keXtiYWNrZ3JvdW5kOnVybCgvL3d3dy5nb29nbGUuY29tL2ltYWdlcy9lcnJvcnMvcm9ib3QucG5nKSAxMDAlIDVweCBuby1yZXBlYXQ7cGFkZGluZy1yaWdodDoyMDVweH1we21hcmdpbjoxMXB4IDAgMjJweDtvdmVyZmxvdzpoaWRkZW59aW5ze2NvbG9yOiM3Nzc7dGV4dC1kZWNvcmF0aW9uOm5vbmV9YSBpbWd7Ym9yZGVyOjB9QG1lZGlhIHNjcmVlbiBhbmQgKG1heC13aWR0aDo3NzJweCl7Ym9keXtiYWNrZ3JvdW5kOm5vbmU7bWFyZ2luLXRvcDowO21heC13aWR0aDpub25lO3BhZGRpbmctcmlnaHQ6MH19I2xvZ297YmFja2dyb3VuZDp1cmwoLy93d3cuZ29vZ2xlLmNvbS9pbWFnZXMvbG9nb3MvZXJyb3JwYWdlL2Vycm9yX2xvZ28tMTUweDU0LnBuZykgbm8tcmVwZWF0O21hcmdpbi1sZWZ0Oi01cHh9QG1lZGlhIG9ubHkgc2NyZWVuIGFuZCAobWluLXJlc29sdXRpb246MTkyZHBpKXsjbG9nb3tiYWNrZ3JvdW5kOnVybCgvL3d3dy5nb29nbGUuY29tL2ltYWdlcy9sb2dvcy9lcnJvcnBhZ2UvZXJyb3JfbG9nby0xNTB4NTQtMngucG5nKSBuby1yZXBlYXQgMCUgMCUvMTAwJSAxMDAlOy1tb3otYm9yZGVyLWltYWdlOnVybCgvL3d3dy5nb29nbGUuY29tL2ltYWdlcy9sb2dvcy9lcnJvcnBhZ2UvZXJyb3JfbG9nby0xNTB4NTQtMngucG5nKSAwfX1AbWVkaWEgb25seSBzY3JlZW4gYW5kICgtd2Via2l0LW1pbi1kZXZpY2UtcGl4ZWwtcmF0aW86Mil7I2xvZ297YmFja2dyb3VuZDp1cmwoLy93d3cuZ29vZ2xlLmNvbS9pbWFnZXMvbG9nb3MvZXJyb3JwYWdlL2Vycm9yX2xvZ28tMTUweDU0LTJ4LnBuZykgbm8tcmVwZWF0Oy13ZWJraXQtYmFja2dyb3VuZC1zaXplOjEwMCUgMTAwJX19I2xvZ297ZGlzcGxheTppbmxpbmUtYmxvY2s7aGVpZ2h0OjU0cHg7d2lkdGg6MTUwcHh9CiAgPC9zdHlsZT4KICA8YSBocmVmPS8vd3d3Lmdvb2dsZS5jb20vPjxzcGFuIGlkPWxvZ28gYXJpYS1sYWJlbD1Hb29nbGU+PC9zcGFuPjwvYT4KICA8cD48Yj40MDQuPC9iPiA8aW5zPlRoYXTigJlzIGFuIGVycm9yLjwvaW5zPgogIDxwPiAgPGlucz5UaGF04oCZcyBhbGwgd2Uga25vdy48L2lucz4K",
              "ok": false,
              "headers": [
                [
                  "content-length",
                  "1449"
                ],
                [
                  "content-type",
                  "text/html; charset=utf-8"
                ]
              ],
              "status": 404,
              "status_text": ""
            }
          },
          "base_uri": "https://localhost:8080/",
          "height": 501
        },
        "outputId": "8036df3e-87cc-48b3-f3b7-a8315aa54c97"
      },
      "source": [
        "# show video\n",
        "from IPython.display import HTML\n",
        "import os\n",
        "\n",
        "video_names = list(\n",
        "    filter(lambda s: s.endswith(\".mp4\"), os.listdir(\"./videos/\")))\n",
        "\n",
        "HTML(\"\"\"\n",
        "<video width=\"640\" height=\"480\" controls>\n",
        "  <source src=\"{}\" type=\"video/mp4\">\n",
        "</video>\n",
        "\"\"\".format(\"./videos/\"+video_names[-1]))  # this may or may not be the _last_ video. Try other indices"
      ],
      "execution_count": 17,
      "outputs": [
        {
          "output_type": "execute_result",
          "data": {
            "text/html": [
              "\n",
              "<video width=\"640\" height=\"480\" controls>\n",
              "  <source src=\"./videos/openaigym.video.0.1361.video000000.mp4\" type=\"video/mp4\">\n",
              "</video>\n"
            ],
            "text/plain": [
              "<IPython.core.display.HTML object>"
            ]
          },
          "metadata": {
            "tags": []
          },
          "execution_count": 17
        }
      ]
    },
    {
      "cell_type": "code",
      "metadata": {
        "collapsed": true,
        "id": "W_YclUpmlp35"
      },
      "source": [
        ""
      ],
      "execution_count": 17,
      "outputs": []
    },
    {
      "cell_type": "markdown",
      "metadata": {
        "id": "z-rS31UJlp35"
      },
      "source": [
        "### Bonus area: solving Acrobot-v1\n",
        "Try to solve more complex environment using Policy gradient method.\n",
        "*Hint: you will need add some imporovements to the original REINFORCE (e.g. Advantage Actor Critic or anything else).*"
      ]
    },
    {
      "cell_type": "code",
      "metadata": {
        "id": "xH7Xak_Ilp35",
        "colab": {
          "base_uri": "https://localhost:8080/",
          "height": 286
        },
        "outputId": "65f65ea1-9389-4fd5-85aa-b52960c2c68f"
      },
      "source": [
        "env = gym.make(\"Acrobot-v1\")\n",
        "env.reset()\n",
        "\n",
        "plt.imshow(env.render(\"rgb_array\"))\n",
        "state_dim = env.reset().shape[0]\n",
        "n_actions = env.action_space.n\n",
        "\n",
        "print(state_dim, n_actions)"
      ],
      "execution_count": 18,
      "outputs": [
        {
          "output_type": "stream",
          "text": [
            "6 3\n"
          ],
          "name": "stdout"
        },
        {
          "output_type": "display_data",
          "data": {
            "image/png": "[encoded data removed]",
            "text/plain": [
              "<Figure size 432x288 with 1 Axes>"
            ]
          },
          "metadata": {
            "tags": [],
            "needs_background": "light"
          }
        }
      ]
    },
    {
      "cell_type": "code",
      "metadata": {
        "id": "IMDU_N1Clp36"
      },
      "source": [
        "model = nn.Sequential(\r\n",
        "  #< YOUR CODE HERE: define a neural network that predicts policy logits >\r\n",
        "  nn.Linear(state_dim, 128),\r\n",
        "  nn.ReLU(),\r\n",
        "  nn.Linear(128, 64),\r\n",
        "  nn.ReLU(),\r\n",
        "  nn.Linear(64, n_actions)\r\n",
        ")"
      ],
      "execution_count": 19,
      "outputs": []
    },
    {
      "cell_type": "code",
      "metadata": {
        "id": "Z6i6zIEVA4EU",
        "outputId": "6788704f-d50a-466b-dd3e-96e08ac24949",
        "colab": {
          "base_uri": "https://localhost:8080/"
        }
      },
      "source": [
        "# test it\r\n",
        "states, actions, rewards = generate_session()\r\n",
        "print(f'states {states} \\n actions {actions} \\n rewards {rewards}')"
      ],
      "execution_count": 20,
      "outputs": [
        {
          "output_type": "stream",
          "text": [
            "states [array([ 0.9953384 ,  0.09644414,  0.99999644, -0.00266822, -0.07831384,\n",
            "        0.02020228]), array([ 0.99839978,  0.05654975,  0.9990249 ,  0.0441504 , -0.3119517 ,\n",
            "        0.43327257]), array([ 0.99998977,  0.00452244,  0.99575651,  0.09202703, -0.19682898,\n",
            "        0.03089682]), array([ 0.99982398, -0.018762  ,  0.99856847,  0.05348834, -0.03265963,\n",
            "       -0.4138932 ]), array([ 9.99368983e-01, -3.55195025e-02,  9.99999903e-01,  4.39351948e-04,\n",
            "       -1.33139625e-01, -1.10499517e-01]), array([ 0.99904892, -0.04360336,  0.99824093, -0.05928786,  0.05167422,\n",
            "       -0.47746216]), array([ 0.999545  , -0.03016284,  0.98892211, -0.14843538,  0.07736965,\n",
            "       -0.40184262]), array([ 0.99999841, -0.0017818 ,  0.96950555, -0.24506934,  0.19745082,\n",
            "       -0.56251788]), array([ 0.99902532,  0.04414071,  0.93458111, -0.35575013,  0.24924104,\n",
            "       -0.57231757]), array([ 0.99571801,  0.09244269,  0.89340767, -0.44924685,  0.22283846,\n",
            "       -0.42681427]), array([ 0.99324154,  0.11606566,  0.88050819, -0.47403093,  0.0097587 ,\n",
            "        0.15397928]), array([ 0.99651117,  0.08345952,  0.93142226, -0.36394035, -0.32995898,\n",
            "        1.04008599]), array([ 0.99999173,  0.00406678,  0.99192834, -0.12679971, -0.44147371,\n",
            "        1.36022677]), array([ 0.99665661, -0.08170436,  0.98932594,  0.14571952, -0.38958145,\n",
            "        1.31048677]), array([ 0.98809629, -0.15383667,  0.91838307,  0.39569249, -0.31332302,\n",
            "        1.23898456]), array([ 0.98025085, -0.19775809,  0.81277317,  0.58258027, -0.11998554,\n",
            "        0.87547273]), array([ 0.98012514, -0.1983802 ,  0.7338154 ,  0.67934893,  0.11365573,\n",
            "        0.36130161]), array([ 0.99126559, -0.13188075,  0.76302871,  0.6463646 ,  0.5463424 ,\n",
            "       -0.78885771]), array([ 0.99999835, -0.00181831,  0.88948664,  0.45696118,  0.73040591,\n",
            "       -1.44764758]), array([ 0.99117084,  0.132591  ,  0.98329006,  0.18204577,  0.58129883,\n",
            "       -1.39574342]), array([ 0.97050258,  0.24109074,  0.99232253, -0.12367702,  0.49036754,\n",
            "       -1.60234814]), array([ 0.9582119 ,  0.28605935,  0.93564531, -0.35294171, -0.03868023,\n",
            "       -0.72270868]), array([ 0.96817534,  0.25027288,  0.89090133, -0.45419689, -0.32830226,\n",
            "       -0.37240533]), array([ 0.99044547,  0.1379049 ,  0.90356928, -0.42844201, -0.79308316,\n",
            "        0.6394976 ]), array([ 0.99872849, -0.05041227,  0.97330694, -0.22950729, -1.05187976,\n",
            "        1.41157718]), array([ 0.96587912, -0.25899329,  0.99604825,  0.08881379, -1.01039639,\n",
            "        1.70121999]), array([ 0.90755799, -0.41992678,  0.91675559,  0.3994486 , -0.66040235,\n",
            "        1.44066461]), array([ 0.88316804, -0.46905673,  0.83854377,  0.54483424,  0.12128814,\n",
            "        0.19127885]), array([ 0.92615763, -0.37713663,  0.88397601,  0.46753225,  0.87450881,\n",
            "       -1.07019496]), array([ 0.98637656, -0.16450314,  0.98023509,  0.1978362 ,  1.2899215 ,\n",
            "       -1.7281407 ]), array([ 0.9959    ,  0.09046094,  0.99169136, -0.12863997,  1.20500631,\n",
            "       -1.44925838]), array([ 0.95349503,  0.30140875,  0.92968449, -0.36835681,  0.90171029,\n",
            "       -0.96108395]), array([ 0.9119998 ,  0.41019064,  0.89627456, -0.44349962,  0.24084621,\n",
            "        0.15942729]), array([ 0.921559  ,  0.38823834,  0.9514195 , -0.30789761, -0.47358245,\n",
            "        1.28364376]), array([ 9.67465500e-01,  2.53002975e-01,  9.99999959e-01,  2.84649864e-04,\n",
            "       -9.17342122e-01,  1.77445064e+00]), array([ 0.99789752,  0.06481151,  0.94766677,  0.31926116, -0.94392714,\n",
            "        1.38579616]), array([ 0.99322432, -0.11621296,  0.84846656,  0.52924899, -0.82861751,\n",
            "        0.8803838 ]), array([ 0.96528339, -0.26120486,  0.77134118,  0.63642186, -0.61810417,\n",
            "        0.40428988]), array([ 0.94634415, -0.32316058,  0.79831279,  0.60224304, -0.01535611,\n",
            "       -0.84346505]), array([ 0.96058332, -0.27799225,  0.92471596,  0.38065784,  0.4762092 ,\n",
            "       -1.67600191]), array([ 0.98676016, -0.16218627,  0.999355  ,  0.03591091,  0.67353735,\n",
            "       -1.78675365]), array([ 0.99986902, -0.01618456,  0.94854012, -0.31665698,  0.75066908,\n",
            "       -1.70570157]), array([ 0.99268321,  0.12074788,  0.81743664, -0.57601852,  0.5897284 ,\n",
            "       -1.15065814]), array([ 0.97809646,  0.20815215,  0.72120027, -0.69272662,  0.27989462,\n",
            "       -0.33843669]), array([ 0.97127236,  0.23797059,  0.71452199, -0.69961298,  0.01983083,\n",
            "        0.24723331]), array([ 0.9814356 ,  0.19179199,  0.82256782, -0.56866702, -0.48653516,\n",
            "        1.43538822]), array([ 0.99860363,  0.05282796,  0.97664812, -0.21484516, -0.87952095,\n",
            "        2.37344735]), array([ 0.99389707, -0.11031146,  0.97365812,  0.22801284, -0.70092869,\n",
            "        1.97835794]), array([ 0.97524124, -0.22114366,  0.84136428,  0.54046845, -0.39350526,\n",
            "        1.3647027 ]), array([ 0.96921038, -0.24623411,  0.74704944,  0.66476848,  0.13705566,\n",
            "        0.1839305 ]), array([ 0.98330686, -0.18195498,  0.77969121,  0.62616421,  0.5073074 ,\n",
            "       -0.67580441]), array([ 0.99778988, -0.06644807,  0.8775375 ,  0.47950802,  0.63135463,\n",
            "       -1.04889473]), array([ 0.99752743,  0.07027818,  0.97037242,  0.24161408,  0.7036076 ,\n",
            "       -1.45117616]), array([ 0.98010604,  0.19847458,  0.99868975, -0.05117409,  0.55475192,\n",
            "       -1.42781104]), array([ 0.95767251,  0.28785997,  0.94502832, -0.32698849,  0.3386534 ,\n",
            "       -1.32795734]), array([ 0.94728614,  0.32038879,  0.84707909, -0.53146686, -0.00955892,\n",
            "       -0.90546039]), array([ 0.96566617,  0.25978616,  0.81310941, -0.58211089, -0.60902301,\n",
            "        0.29248205]), array([ 0.99570568,  0.09257537,  0.89980752, -0.43628709, -1.05635434,\n",
            "        1.36410796]), array([ 0.99339763, -0.11472208,  0.9854558 , -0.16993196, -0.96969829,\n",
            "        1.35955305]), array([ 0.95864242, -0.28461325,  0.99566107,  0.0930539 , -0.72351984,\n",
            "        1.20586437]), array([ 0.92993001, -0.36773657,  0.96842745,  0.24929557, -0.1360671 ,\n",
            "        0.34657098]), array([ 0.9382303 , -0.34601143,  0.96637379,  0.25714138,  0.36399484,\n",
            "       -0.26325743]), array([ 0.96888017, -0.24753024,  0.98248333,  0.18635048,  0.64574773,\n",
            "       -0.43700991]), array([ 0.99435178, -0.10613452,  0.99513547,  0.09851595,  0.76072581,\n",
            "       -0.4138396 ]), array([ 0.99855299,  0.05377655,  0.99999469,  0.00325964,  0.80497813,\n",
            "       -0.49821568]), array([ 0.97713225,  0.21263246,  0.9931368 , -0.1169585 ,  0.76352646,\n",
            "       -0.66045457]), array([ 0.94961601,  0.31341575,  0.98487845, -0.17324674,  0.26032443,\n",
            "        0.11387863]), array([ 0.94244608,  0.33435818,  0.99041087, -0.13815319, -0.04164403,\n",
            "        0.23776326]), array([ 0.95821307,  0.28605542,  0.99882805, -0.04839966, -0.45366579,\n",
            "        0.64140066]), array([ 0.98802294,  0.15430706,  0.99048111,  0.13764874, -0.86482566,\n",
            "        1.16902095]), array([ 0.99925973, -0.03847067,  0.92471862,  0.38065139, -1.02178324,\n",
            "        1.27807918]), array([ 0.97273576, -0.23191622,  0.8147367 ,  0.57983111, -0.89011598,\n",
            "        0.9396561 ]), array([ 0.92899804, -0.37008464,  0.73385373,  0.67930752, -0.53148205,\n",
            "        0.31294333]), array([ 0.90553756, -0.4242661 ,  0.7406221 ,  0.6719218 , -0.04818671,\n",
            "       -0.41637899]), array([ 0.92197015, -0.38726096,  0.83457457,  0.55089499,  0.44382246,\n",
            "       -1.09517052]), array([ 0.97061124, -0.24065291,  0.96957567,  0.24479178,  1.06760022,\n",
            "       -2.20282866]), array([ 0.99980458, -0.01976863,  0.98271718, -0.18511333,  1.1022377 ,\n",
            "       -2.0117147 ]), array([ 0.98486596,  0.17331774,  0.87104758, -0.49119865,  0.79269759,\n",
            "       -1.18465606]), array([ 0.95285625,  0.30342209,  0.76237307, -0.64713777,  0.51972803,\n",
            "       -0.67824705]), array([ 0.93947186,  0.34262607,  0.75736931, -0.65298677, -0.11359543,\n",
            "        0.60535655]), array([ 0.96550153,  0.26039739,  0.89357571, -0.44891253, -0.73356955,\n",
            "        1.82204674]), array([ 0.99539467,  0.09586164,  0.99703045, -0.07700829, -0.89221286,\n",
            "        1.96627866]), array([ 0.99637234, -0.08510086,  0.95156344,  0.30745248, -0.86823886,\n",
            "        1.82785678]), array([ 0.97307599, -0.23048452,  0.81493309,  0.57955505, -0.57162753,\n",
            "        1.16688199]), array([ 0.95405064, -0.29964541,  0.72274403,  0.69111582, -0.1330566 ,\n",
            "        0.26131199]), array([ 0.95998517, -0.28005084,  0.75193478,  0.6592375 ,  0.33389182,\n",
            "       -0.68743446]), array([ 0.98461944, -0.17471277,  0.87958597,  0.47573998,  0.72620915,\n",
            "       -1.5145224 ]), array([ 0.99980142, -0.01992767,  0.9851751 ,  0.17155178,  0.7887369 ,\n",
            "       -1.63955815]), array([ 0.99259067,  0.12150623,  0.992199  , -0.12466415,  0.58930746,\n",
            "       -1.25777449]), array([ 0.973929  ,  0.22685305,  0.93120675, -0.3644914 ,  0.45158148,\n",
            "       -1.16449462]), array([ 0.9644735 ,  0.26417961,  0.87527538, -0.48362487, -0.07410416,\n",
            "       -0.13339611]), array([ 0.97739845,  0.21140545,  0.89657836, -0.44288514, -0.45750566,\n",
            "        0.57980159]), array([ 0.994466  ,  0.10505894,  0.95002076, -0.31218672, -0.59482878,\n",
            "        0.79530211]), array([ 0.99965088, -0.0264218 ,  0.99221964, -0.12449972, -0.68969765,\n",
            "        1.07849109]), array([ 0.98976521, -0.14270539,  0.9984673 ,  0.05534486, -0.44879965,\n",
            "        0.67378014]), array([ 0.97801766, -0.20852206,  0.98662386,  0.16301339, -0.20361668,\n",
            "        0.38223099]), array([ 0.97285299, -0.23142397,  0.97259352,  0.23251202, -0.02446575,\n",
            "        0.31176277]), array([ 0.98153009, -0.19130781,  0.97675469,  0.21436018,  0.42577303,\n",
            "       -0.48859565]), array([ 0.99525882, -0.09726193,  0.99297958,  0.11828589,  0.50287785,\n",
            "       -0.45505524]), array([ 9.99999688e-01, -7.90531385e-04,  9.98904435e-01,  4.67966932e-02,\n",
            "        4.41639135e-01, -2.35138919e-01]), array([0.99745941, 0.07123715, 0.99943689, 0.03355459, 0.26447594,\n",
            "       0.1156197 ]), array([ 0.99189559,  0.12705562,  0.99965318,  0.02633479,  0.2848759 ,\n",
            "       -0.17770985]), array([ 0.98822651,  0.15299796,  0.99931152,  0.03710105, -0.02738686,\n",
            "        0.28692412]), array([ 0.99309587,  0.11730552,  0.99065024,  0.13642617, -0.3220191 ,\n",
            "        0.68692219]), array([ 0.99898907,  0.04495382,  0.96532603,  0.26104723, -0.38579473,\n",
            "        0.55315664]), array([ 0.99986904, -0.0161836 ,  0.95165032,  0.30718345, -0.21238499,\n",
            "       -0.08806433]), array([ 0.99933951, -0.03633932,  0.97435836,  0.22500174,  0.01322841,\n",
            "       -0.75496955]), array([ 0.99923983, -0.03898401,  0.99610682,  0.0881544 , -0.04400015,\n",
            "       -0.60768291]), array([ 0.99912823, -0.0417467 ,  0.99911458, -0.042072  ,  0.01240586,\n",
            "       -0.67317548]), array([ 0.99934875, -0.03608428,  0.98537394, -0.17040597,  0.03899407,\n",
            "       -0.59530594]), array([ 0.99988449, -0.01519859,  0.95370775, -0.30073498,  0.16129949,\n",
            "       -0.72047216]), array([ 0.9999988 , -0.00154719,  0.92827922, -0.37188398, -0.02802524,\n",
            "       -0.02389242]), array([ 0.99991474, -0.01305823,  0.93986224, -0.34155375, -0.08408228,\n",
            "        0.34189516]), array([ 0.99979465, -0.02026481,  0.96020356, -0.27930113,  0.01511918,\n",
            "        0.301586  ]), array([ 0.99946155, -0.03281183,  0.98660104, -0.16315143, -0.13532051,\n",
            "        0.86965317]), array([ 0.99904576, -0.04367575,  0.99985622, -0.0169568 ,  0.03376316,\n",
            "        0.57214643]), array([ 0.99900179, -0.04467026,  0.99212425,  0.1252576 , -0.03829411,\n",
            "        0.82736642]), array([ 0.99843834, -0.05586492,  0.9549147 ,  0.29688032, -0.06524936,\n",
            "        0.89811746]), array([ 0.99773427, -0.06727796,  0.89082797,  0.45434077, -0.04229401,\n",
            "        0.77538968]), array([ 0.99749406, -0.07075025,  0.82426684,  0.56620153,  0.00981416,\n",
            "        0.50975186]), array([ 0.99923722, -0.03905086,  0.82136748,  0.57039939,  0.29994115,\n",
            "       -0.4529737 ]), array([ 0.99901549,  0.04436281,  0.90993711,  0.41474625,  0.5173578 ,\n",
            "       -1.30839452]), array([ 0.98948698,  0.14462195,  0.99054358,  0.13719846,  0.46157089,\n",
            "       -1.52840147]), array([ 0.97365506,  0.22802592,  0.98205855, -0.18857628,  0.35703339,\n",
            "       -1.67101444]), array([ 0.9687119 ,  0.24818796,  0.90706282, -0.4209953 , -0.15822234,\n",
            "       -0.73921659]), array([ 0.98578691,  0.16800052,  0.887312  , -0.46116962, -0.6440427 ,\n",
            "        0.28468804]), array([ 0.99999071,  0.00431157,  0.9457988 , -0.3247532 , -0.96455514,\n",
            "        1.15572277]), array([ 0.98275645, -0.18490474,  0.99698673, -0.07757226, -0.89221432,\n",
            "        1.30028332]), array([ 0.94014309, -0.34077996,  0.98144049,  0.19176697, -0.6847869 ,\n",
            "        1.33367141]), array([ 0.90239062, -0.43091898,  0.90922926,  0.41629575, -0.26779354,\n",
            "        0.9808356 ]), array([ 0.91154983, -0.41118961,  0.8749571 ,  0.48420044,  0.48066407,\n",
            "       -0.22558073]), array([ 0.95939985, -0.28204953,  0.91681564,  0.39931077,  0.86942672,\n",
            "       -0.6919391 ]), array([ 0.99788055, -0.06507227,  0.98403569,  0.17797122,  1.28902263,\n",
            "       -1.55803773]), array([ 0.98173446,  0.19025628,  0.99033786, -0.13867558,  1.21338515,\n",
            "       -1.52051861]), array([ 0.92243085,  0.38616231,  0.92434338, -0.38156168,  0.79139984,\n",
            "       -0.93550978]), array([ 0.88021827,  0.47456906,  0.87984725, -0.47525657,  0.17012488,\n",
            "       -0.08106589]), array([ 0.88948878,  0.45695702,  0.89830282, -0.43937687, -0.36438261,\n",
            "        0.47661386]), array([ 0.93774077,  0.34733593,  0.95151451, -0.30760387, -0.80834566,\n",
            "        0.91094243]), array([ 0.9883927 ,  0.1519206 ,  0.99706704, -0.07653307, -1.16702898,\n",
            "        1.38012783]), array([ 0.99710763, -0.07600243,  0.98563297,  0.16890133, -1.06453873,\n",
            "        1.00170027]), array([ 0.96809804, -0.25057172,  0.95641722,  0.29200358, -0.66916379,\n",
            "        0.21969607]), array([ 0.93639649, -0.35094389,  0.95079843,  0.30981017, -0.36381961,\n",
            "       -0.04814728]), array([ 0.92854587, -0.37121769,  0.97122031,  0.23818292,  0.14802461,\n",
            "       -0.68678163]), array([ 0.95038265, -0.3110833 ,  0.9964149 ,  0.08460107,  0.47431895,\n",
            "       -0.83583455]), array([ 0.98002652, -0.19886682,  0.99705679, -0.07666653,  0.65903306,\n",
            "       -0.73336449]), array([ 0.99864682, -0.05200515,  0.97499932, -0.22220784,  0.78816162,\n",
            "       -0.69063541]), array([ 0.99497113,  0.10016216,  0.94505458, -0.32691257,  0.70149083,\n",
            "       -0.35754219]), array([ 0.97387612,  0.22707996,  0.92597825, -0.37757685,  0.558966  ,\n",
            "       -0.15712105]), array([ 0.95091937,  0.30943875,  0.92576565, -0.37809781,  0.28011756,\n",
            "        0.16146988]), array([ 0.94792708,  0.31848744,  0.95870551, -0.28440067, -0.18396202,\n",
            "        0.8174871 ]), array([ 0.96670719,  0.25588513,  0.99427336, -0.10686665, -0.45074867,\n",
            "        0.95513932]), array([ 0.9919302 ,  0.12678517,  0.98974932,  0.14281553, -0.8303567 ,\n",
            "        1.48276412]), array([ 0.99956177, -0.02960192,  0.92642155,  0.37648785, -0.69992763,\n",
            "        0.88216151]), array([ 0.98835588, -0.15215995,  0.87261488,  0.48840892, -0.50464316,\n",
            "        0.3254527 ]), array([ 0.97247451, -0.23300928,  0.85806368,  0.5135433 , -0.30259171,\n",
            "       -0.0499665 ]), array([ 0.96735217, -0.25343594,  0.89835315,  0.43927396,  0.09523758,\n",
            "       -0.78670992]), array([ 0.98017559, -0.1981308 ,  0.97272156,  0.23197577,  0.45570932,\n",
            "       -1.37813227]), array([ 0.99640116, -0.0847628 ,  0.99739468, -0.07213778,  0.65549894,\n",
            "       -1.61137463]), array([ 0.99889452,  0.04700774,  0.92943218, -0.36899297,  0.62712625,\n",
            "       -1.37276718]), array([ 0.98633282,  0.16476517,  0.80872172, -0.58819145,  0.52904926,\n",
            "       -1.08231958]), array([ 0.96916238,  0.24642296,  0.7011715 , -0.71299266,  0.28868273,\n",
            "       -0.53889438]), array([ 0.96811488,  0.25050666,  0.71361186, -0.7005413 , -0.24782269,\n",
            "        0.71423943]), array([ 0.98650307,  0.16374274,  0.85505824, -0.51853197, -0.62217453,\n",
            "        1.56212695]), array([ 0.9998753 ,  0.01579191,  0.98487871, -0.17324531, -0.82437189,\n",
            "        2.06563271]), array([ 0.98951258, -0.14444673,  0.97155368,  0.23681942, -0.73285696,\n",
            "        1.96131927]), array([ 0.9696761 , -0.24439367,  0.85771373,  0.51412757, -0.26243219,\n",
            "        0.99435768]), array([ 0.96995466, -0.24328577,  0.81052711,  0.58570112,  0.27175844,\n",
            "       -0.14292671]), array([ 0.98602671, -0.16658729,  0.85188735,  0.52372506,  0.49510918,\n",
            "       -0.58180966]), array([ 0.99903574, -0.04390433,  0.93155047,  0.36361205,  0.71156685,\n",
            "       -1.16618753]), array([ 0.99591948,  0.0902463 ,  0.98992803,  0.14157153,  0.59682742,\n",
            "       -1.0731315 ]), array([ 0.978352  ,  0.20694772,  0.99479099, -0.1019357 ,  0.5520804 ,\n",
            "       -1.30681712]), array([ 0.95955795,  0.28151117,  0.94892008, -0.31551652,  0.19586162,\n",
            "       -0.83577964]), array([ 0.95689727,  0.2904266 ,  0.89739058, -0.44123706, -0.10806088,\n",
            "       -0.50170289]), array([ 0.97637834,  0.2160679 ,  0.90009606, -0.4356915 , -0.64436091,\n",
            "        0.5521632 ]), array([ 0.99885384,  0.04786438,  0.96929941, -0.2458834 , -1.01652765,\n",
            "        1.4175012 ]), array([ 0.98983585, -0.14221457,  0.99987123,  0.01604739, -0.84171145,\n",
            "        1.14811214]), array([ 0.95585447, -0.29384048,  0.96858637,  0.24867738, -0.67531994,\n",
            "        1.13995679]), array([ 0.9310568 , -0.36487429,  0.92795126,  0.37270157, -0.06147145,\n",
            "        0.14046828]), array([ 0.94455697, -0.32834758,  0.94313908,  0.33239837,  0.4422469 ,\n",
            "       -0.55995278]), array([ 0.98176673, -0.1900897 ,  0.9909168 ,  0.13447638,  0.95753611,\n",
            "       -1.42792714]), array([ 0.99999555,  0.00298422,  0.99128544, -0.13173147,  0.93667263,\n",
            "       -1.16274054]), array([ 0.98418195,  0.17716065,  0.9443241 , -0.3290167 ,  0.77370107,\n",
            "       -0.80832028]), array([ 0.95954219,  0.2815649 ,  0.91992764, -0.39208817,  0.2776108 ,\n",
            "        0.15375332]), array([ 0.95604579,  0.29321741,  0.9535478 , -0.30124175, -0.15585597,\n",
            "        0.80161781]), array([ 0.97126647,  0.23799464,  0.99182118, -0.1276352 , -0.39966853,\n",
            "        0.93961839]), array([ 0.99278349,  0.1199206 ,  0.99277452,  0.11999479, -0.76832305,\n",
            "        1.4796546 ]), array([ 0.9987476 , -0.05003224,  0.90825873,  0.41840899, -0.88929603,\n",
            "        1.55120837]), array([ 0.97643455, -0.21581372,  0.75908106,  0.65099611, -0.74758392,\n",
            "        1.15866731]), array([ 0.94772197, -0.31909728,  0.66303476,  0.74858861, -0.30535119,\n",
            "        0.18983846]), array([ 0.94064047, -0.33940463,  0.68841009,  0.72532168,  0.09471974,\n",
            "       -0.53314976]), array([ 0.96214571, -0.27253554,  0.82209301,  0.56935321,  0.5954773 ,\n",
            "       -1.49911855]), array([ 0.99302559, -0.11789904,  0.97337145,  0.22923355,  0.94280299,\n",
            "       -2.16643162]), array([ 0.99575537,  0.09203935,  0.96870345, -0.24822091,  1.09544677,\n",
            "       -2.52312739]), array([ 0.95747   ,  0.28853283,  0.74966991, -0.66181193,  0.85639734,\n",
            "       -2.09657167]), array([ 0.91770871,  0.39725399,  0.51312413, -0.85831441,  0.28671028,\n",
            "       -0.96436392]), array([ 0.92293137,  0.38496453,  0.47429436, -0.88036632, -0.41379994,\n",
            "        0.51523441]), array([ 0.96376082,  0.26676786,  0.63114873, -0.77566183, -0.81555585,\n",
            "        1.348775  ]), array([ 0.99837547,  0.05697734,  0.8821796 , -0.4709131 , -1.2765207 ,\n",
            "        2.56551105]), array([ 0.97939902, -0.20193452,  0.99822047,  0.05963127, -1.25038145,\n",
            "        2.78219435]), array([ 0.92145823, -0.38847745,  0.86463812,  0.50239518, -0.6549228 ,\n",
            "        1.78338295]), array([ 0.89337244, -0.44931692,  0.70934903,  0.7048574 , -0.00360633,\n",
            "        0.74536348]), array([ 0.91612112, -0.4009016 ,  0.65980051,  0.7514408 ,  0.52758697,\n",
            "       -0.06666039]), array([ 0.96845746, -0.24917897,  0.74589128,  0.66606771,  1.04757189,\n",
            "       -1.12014439]), array([ 0.99974564, -0.02255357,  0.89885669,  0.43824268,  1.1945756 ,\n",
            "       -1.55999295]), array([ 0.97674084,  0.21442324,  0.99420306,  0.10751868,  1.1337237 ,\n",
            "       -1.79936152]), array([ 0.91285328,  0.40828774,  0.96688832, -0.25519986,  0.85830951,\n",
            "       -1.76132584]), array([ 0.86344098,  0.50444988,  0.86270239, -0.50571197,  0.19898101,\n",
            "       -0.91250274]), array([ 0.87931631,  0.4762382 ,  0.81810605, -0.57506739, -0.51687396,\n",
            "        0.09428781]), array([ 0.94619443,  0.32359868,  0.87952724, -0.47584853, -1.11904046,\n",
            "        1.04406579]), array([ 0.99851469,  0.05448319,  0.98325021, -0.18226086, -1.56967348,\n",
            "        1.99396869]), array([ 0.96450098, -0.26407928,  0.96878494,  0.24790269, -1.56613833,\n",
            "        2.20270357]), array([ 0.87009769, -0.49287931,  0.83684947,  0.54743307, -0.86589607,\n",
            "        1.0161631 ]), array([ 0.81064527, -0.58553756,  0.75997665,  0.64995037, -0.21652607,\n",
            "        0.2468396 ]), array([ 0.83264197, -0.55381166,  0.79990773,  0.60012301,  0.59594778,\n",
            "       -0.87788278]), array([ 0.92766983, -0.37340151,  0.94519431,  0.32650836,  1.40818014,\n",
            "       -2.17976614]), array([ 0.99878566, -0.04926671,  0.98278088, -0.18477482,  1.83820502,\n",
            "       -2.84468   ]), array([ 0.95541182,  0.29527658,  0.7665518 , -0.64218247,  1.57111407,\n",
            "       -2.13294246]), array([ 0.85028884,  0.52631635,  0.53620764, -0.84408611,  0.93168163,\n",
            "       -0.90323953]), array([ 0.79643774,  0.60472054,  0.5201872 , -0.85405227,  0.00255102,\n",
            "        0.71595683]), array([ 0.85133686,  0.52461944,  0.75255879, -0.65852507, -0.96644159,\n",
            "        2.31987802]), array([ 0.95509524,  0.29629898,  0.98348253, -0.18100307, -1.48279279,\n",
            "        2.92849391]), array([ 0.99982085, -0.01892791,  0.91369291,  0.40640531, -1.62196896,\n",
            "        2.89515781]), array([ 0.95103053, -0.30909696,  0.61150272,  0.79124233, -1.2715971 ,\n",
            "        1.95193515]), array([ 0.87254827, -0.48852791,  0.38203903,  0.92414619, -0.66072667,\n",
            "        0.68579961]), array([ 0.83631233, -0.5482533 ,  0.35214232,  0.93594647, -0.0256629 ,\n",
            "       -0.36815837]), array([ 0.86823736, -0.49614905,  0.5129964 ,  0.85839076,  0.6300091 ,\n",
            "       -1.41038849]), array([ 0.94423915, -0.32926044,  0.79256058,  0.60979319,  1.17324484,\n",
            "       -2.30431809]), array([ 0.99748768, -0.07084023,  0.98936095,  0.14548163,  1.40245266,\n",
            "       -2.66269553]), array([ 0.98155193,  0.19119574,  0.94089561, -0.3386967 ,  1.15757678,\n",
            "       -2.11416073]), array([ 0.93260036,  0.36091076,  0.79072832, -0.61216724,  0.57598417,\n",
            "       -0.96313208]), array([ 0.91530887,  0.40275263,  0.7518625 , -0.65931994, -0.13036907,\n",
            "        0.3589257 ]), array([ 0.94973519,  0.31305442,  0.86892035, -0.49495195, -0.81396046,\n",
            "        1.63594453]), array([ 0.99476592,  0.10218008,  0.99610295, -0.08819814, -1.29191873,\n",
            "        2.55764213]), array([ 0.98990192, -0.14175397,  0.92883837,  0.37048519, -1.08721416,\n",
            "        1.99362631]), array([ 0.94411513, -0.32961588,  0.74147181,  0.67098402, -0.80525132,\n",
            "        1.49119124]), array([ 0.90483365, -0.42576527,  0.60130611,  0.79901875, -0.21778953,\n",
            "        0.39015306]), array([ 0.90834148, -0.41822931,  0.60707318,  0.79464593,  0.29902163,\n",
            "       -0.46086761]), array([ 0.95500802, -0.29657997,  0.77481608,  0.63218671,  0.98543108,\n",
            "       -1.85703248]), array([ 0.99703725, -0.07692029,  0.965505  ,  0.26038452,  1.1997677 ,\n",
            "       -2.25211696]), array([ 0.98415671,  0.1773008 ,  0.9727588 , -0.23181957,  1.27884311,\n",
            "       -2.57862904]), array([ 0.92407425,  0.38221301,  0.778884  , -0.62716801,  0.81034982,\n",
            "       -1.76943379]), array([ 0.8877566 ,  0.46031317,  0.62910416, -0.77732101,  0.04137537,\n",
            "       -0.34026335]), array([ 0.91745129,  0.39784813,  0.68735669, -0.72632003, -0.72158353,\n",
            "        1.10675878]), array([ 0.97783243,  0.20938895,  0.88283409, -0.46968497, -1.22177202,\n",
            "        2.07724952]), array([ 0.99754986, -0.06995906,  0.99990569,  0.01373324, -1.51385017,\n",
            "        2.8118855 ]), array([ 0.93631219, -0.35116874,  0.84368416,  0.53683985, -1.29406254,\n",
            "        2.56553232]), array([ 0.8578341 , -0.5139267 ,  0.59352112,  0.80481842, -0.4897807 ,\n",
            "        1.08736911]), array([ 0.85217282, -0.52326044,  0.5422055 ,  0.84024591,  0.37911167,\n",
            "       -0.46404414]), array([ 0.91961935, -0.39281071,  0.70977925,  0.70442417,  1.06767887,\n",
            "       -1.6763213 ]), array([ 0.99205699, -0.1257892 ,  0.95135656,  0.30809204,  1.65120689,\n",
            "       -2.91758446]), array([ 0.97545373,  0.22020448,  0.94900313, -0.31526666,  1.72743043,\n",
            "       -3.22055454]), array([ 0.8711451 ,  0.49102567,  0.64635992, -0.76303267,  1.12457112,\n",
            "       -2.151394  ]), array([ 0.78479993,  0.6197492 ,  0.36945531, -0.9292485 ,  0.40614574,\n",
            "       -1.07089802]), array([ 0.78240079,  0.62277524,  0.2741257 , -0.96169387, -0.36453105,\n",
            "        0.06554267]), array([ 0.86884694,  0.4950808 ,  0.41841837, -0.90825441, -1.15598621,\n",
            "        1.46995677]), array([ 0.97762897,  0.21033685,  0.77645422, -0.63017367, -1.85993569,\n",
            "        3.06008731]), array([ 0.98070212, -0.19550795,  0.9992873 ,  0.03774781, -2.11636725,\n",
            "        3.91977502]), array([ 0.84912242, -0.5281961 ,  0.75569133,  0.65492795, -1.3930816 ,\n",
            "        2.68154233]), array([ 0.72664582, -0.68701227,  0.41508612,  0.90978213, -0.58666397,\n",
            "        1.57081861]), array([ 0.71348628, -0.7006692 ,  0.25712951,  0.96637695,  0.39242988,\n",
            "        0.10917129]), array([ 0.82720521, -0.56189994,  0.40099161,  0.91608172,  1.37890454,\n",
            "       -1.63908819]), array([ 0.96889992, -0.24745291,  0.77296768,  0.6344454 ,  2.03286499,\n",
            "       -3.01499095]), array([ 0.98556343,  0.16930659,  0.99924651,  0.0388126 ,  2.05814231,\n",
            "       -3.26028996]), array([ 0.86453412,  0.50257413,  0.86455393, -0.50254005,  1.42070479,\n",
            "       -2.23975896]), array([ 0.7461542 ,  0.66577316,  0.65519259, -0.75546189,  0.56752842,\n",
            "       -1.02267238]), array([ 0.73334825,  0.67985317,  0.59743253, -0.80191918, -0.37825515,\n",
            "        0.28440339]), array([ 0.82934266,  0.55874032,  0.71546431, -0.69864929, -1.14465343,\n",
            "        1.27100938]), array([ 0.96084467,  0.27708755,  0.93178721, -0.36300496, -1.91886088,\n",
            "        2.67674073]), array([ 0.99207899, -0.12561559,  0.97931121,  0.20235995, -2.04093907,\n",
            "        2.87864407]), array([ 0.87505219, -0.48402859,  0.74226418,  0.67010737, -1.6660591 ,\n",
            "        2.285376  ]), array([ 0.73514782, -0.67790684,  0.51772344,  0.85554803, -0.69929811,\n",
            "        0.62435414]), array([ 0.71265957, -0.70151004,  0.55311849,  0.8331026 ,  0.38021873,\n",
            "       -1.04122539]), array([ 0.82183321, -0.56972815,  0.80101233,  0.59864784,  1.30974914,\n",
            "       -2.36235922]), array([ 0.96304603, -0.26933686,  0.99772126,  0.06747065,  1.94515581,\n",
            "       -3.23865345]), array([ 0.99008403,  0.14047641,  0.8241484 , -0.56637391,  2.07696634,\n",
            "       -3.23531755]), array([ 0.87397934,  0.48596308,  0.42936251, -0.90313224,  1.52701111,\n",
            "       -1.93797253]), array([ 0.74240117,  0.66995559,  0.20250141, -0.97928197,  0.7087486 ,\n",
            "       -0.45755101]), array([ 0.70944727,  0.70475852,  0.25694617, -0.96642572, -0.24071674,\n",
            "        1.01589507]), array([ 0.81004685,  0.58636516,  0.59693936, -0.80228636, -1.30727489,\n",
            "        2.78817414]), array([ 0.96353175,  0.26759405,  0.97866672, -0.20545426, -2.17239542,\n",
            "        4.31958137]), array([ 0.98270735, -0.18516552,  0.77542547,  0.6314391 , -2.24798359,\n",
            "        4.27352375]), array([ 0.83488523, -0.55042407,  0.15334388,  0.98817289, -1.65946969,\n",
            "        2.98559239]), array([ 0.68263511, -0.73075941, -0.25337516,  0.96736809, -0.69164373,\n",
            "        1.14357269]), array([ 0.65599538, -0.75476491, -0.305314  ,  0.95225173,  0.33596777,\n",
            "       -0.59823524]), array([ 0.76270266, -0.64674929, -0.06081776,  0.99814889,  1.16723648,\n",
            "       -1.90311077]), array([ 0.92900728, -0.37006144,  0.48558973,  0.87418683,  2.0526501 ,\n",
            "       -3.7915554 ]), array([ 0.99513871,  0.09848324,  0.9909037 ,  0.1345729 ,  2.60764782,\n",
            "       -5.27096987]), array([ 0.84597669,  0.53321987,  0.68272807, -0.73067256,  1.88787564,\n",
            "       -3.98787846]), array([ 0.67586009,  0.73702994,  0.14698246, -0.9891391 ,  0.76023131,\n",
            "       -2.06087405]), array([ 0.64065142,  0.76783186, -0.10710792, -0.9942474 , -0.2859336 ,\n",
            "       -0.49717487]), array([ 0.75661348,  0.6538624 , -0.02749462, -0.99962195, -1.31438487,\n",
            "        1.30266657]), array([ 0.93126391,  0.36434534,  0.38253696, -0.92394019, -2.03993188,\n",
            "        2.89140399]), array([ 0.99672392, -0.08087906,  0.89583502, -0.44438678, -2.41565184,\n",
            "        4.1493481 ]), array([ 0.8636721 , -0.50405406,  0.94174906,  0.33631638, -1.92304868,\n",
            "        3.60907289]), array([ 0.67166686, -0.74085331,  0.5645645 ,  0.82538896, -1.07697811,\n",
            "        2.57331574]), array([ 0.5920794 , -0.80587963,  0.2367262 ,  0.9715764 ,  0.05200364,\n",
            "        1.03641165]), array([ 0.6774845 , -0.73553705,  0.15959979,  0.9871818 ,  1.03584645,\n",
            "       -0.25916102]), array([ 0.86445238, -0.50271472,  0.36416162,  0.93133577,  1.91493337,\n",
            "       -1.86528018]), array([ 0.99546633, -0.09511456,  0.76166253,  0.64797391,  2.32208687,\n",
            "       -2.97498939]), array([ 0.93075176,  0.36565171,  0.99912927,  0.04172178,  2.25732364,\n",
            "       -3.43387048]), array([ 0.73407133,  0.67907237,  0.8576007 , -0.51431609,  1.38322584,\n",
            "       -2.24134553]), array([ 0.61394817,  0.78934634,  0.6742623 , -0.73849195,  0.23130606,\n",
            "       -0.65110708]), array([ 0.66917744,  0.74310265,  0.69717491, -0.71690107, -0.9427962 ,\n",
            "        0.96928304]), array([ 0.85690593,  0.51547283,  0.90297322, -0.42969682, -1.97491159,\n",
            "        2.54409129]), array([ 0.99689561,  0.07873464,  0.98524751,  0.17113545, -2.53744898,\n",
            "        3.40625348]), array([ 0.9186479 , -0.39507726,  0.71033301,  0.70386577, -2.20271559,\n",
            "        2.49749869]), array([ 0.72569978, -0.6880115 ,  0.45064927,  0.89270109, -1.27124936,\n",
            "        0.70841212]), array([ 0.6221208 , -0.78292127,  0.48311272,  0.87555817, -0.11084211,\n",
            "       -1.06559648]), array([ 0.68944611, -0.72433698,  0.75864189,  0.65150786,  0.99426809,\n",
            "       -2.48644037]), array([ 0.8767276 , -0.48098724,  0.99829102,  0.05843836,  2.01811005,\n",
            "       -3.89632482]), array([ 0.99714112, -0.07556182,  0.77327614, -0.6340694 ,  2.13198728,\n",
            "       -3.33099816]), array([ 0.95031933,  0.31127667,  0.35117518, -0.93630977,  1.72767849,\n",
            "       -1.84535036]), array([ 0.8234588 ,  0.56737606,  0.13307968, -0.99110534,  1.09014121,\n",
            "       -0.38875428]), array([ 0.73511731,  0.67793992,  0.17983385, -0.983697  ,  0.29709133,\n",
            "        0.863348  ]), array([ 0.75498071,  0.655747  ,  0.4598632 , -0.88798977, -0.59746056,\n",
            "        2.09894107]), array([ 0.88350202,  0.46842734,  0.87923312, -0.47639177, -1.64754409,\n",
            "        3.81890887]), array([ 0.99585715,  0.09093144,  0.93257939,  0.36096492, -2.17632488,\n",
            "        4.55289128]), array([ 0.95135315, -0.30810255,  0.38589055,  0.92254457, -1.78478344,\n",
            "        3.35307342]), array([ 0.8220529 , -0.56941113, -0.12207583,  0.99252078, -1.11443984,\n",
            "        1.83264255]), array([ 0.73707446, -0.67581155, -0.31223084,  0.95000626, -0.2341054 ,\n",
            "        0.1291966 ]), array([ 0.75709564, -0.65330406, -0.21871251,  0.97578934,  0.53382896,\n",
            "       -1.10212088]), array([ 0.8615077 , -0.50774451,  0.12489133,  0.99217043,  1.24189023,\n",
            "       -2.35782663]), array([ 0.97692623, -0.21357701,  0.68013135,  0.73309027,  1.89550144,\n",
            "       -3.83648942]), array([ 0.97834153,  0.20699725,  0.99749131, -0.07078905,  2.20969068,\n",
            "       -4.83376973]), array([ 0.83165849,  0.55528745,  0.58978643, -0.80755926,  1.48408056,\n",
            "       -3.65183074]), array([ 0.71502597,  0.69909789,  0.09077019, -0.99587187,  0.36876363,\n",
            "       -1.76376562]), array([ 0.73217773,  0.68111362, -0.10702595, -0.99425623, -0.59961443,\n",
            "       -0.22505212]), array([ 0.85054883,  0.52589608, -0.02466135, -0.99969586, -1.31879716,\n",
            "        1.04482899]), array([ 0.97339519,  0.2291327 ,  0.3250877 , -0.94568387, -1.85783625,\n",
            "        2.49046064]), array([ 0.98784391, -0.15544903,  0.79611698, -0.60514276, -1.94392802,\n",
            "        3.29319899]), array([ 0.87284707, -0.48799384,  0.99997731,  0.00673664, -1.49625191,\n",
            "        3.07551343]), array([ 0.75165088, -0.65956119,  0.87216142,  0.4892182 , -0.55742422,\n",
            "        1.8696846 ]), array([ 0.73349927, -0.67969024,  0.69780787,  0.71628498,  0.29652102,\n",
            "        0.96694371]), array([ 0.82313453, -0.56784641,  0.63043348,  0.77624328,  1.11544255,\n",
            "       -0.07396582]), array([ 0.95023891, -0.31152211,  0.71686597,  0.69721101,  1.70063236,\n",
            "       -1.06513799]), array([ 0.99883678,  0.04821923,  0.88286319,  0.46963026,  1.86971288,\n",
            "       -1.66148743]), array([ 0.92258258,  0.38579967,  0.98749196,  0.15766935,  1.52783515,\n",
            "       -1.51636715]), array([ 0.80731189,  0.59012499,  0.99734869, -0.07277085,  0.77510103,\n",
            "       -0.72257985]), array([ 0.76011382,  0.64978996,  0.98899547, -0.14794579, -0.02738963,\n",
            "       -0.0166516 ]), array([ 0.82126662,  0.57054459,  0.99898866, -0.04496277, -0.95493207,\n",
            "        1.02575018]), array([ 0.93332297,  0.35903793,  0.98549132,  0.16972582, -1.39407271,\n",
            "        1.05708524]), array([ 0.99813305,  0.06107714,  0.92971517,  0.36827939, -1.59810053,\n",
            "        0.91687691]), array([ 0.96756284, -0.25263047,  0.86080396,  0.50893668, -1.49749248,\n",
            "        0.57448417]), array([ 0.88374461, -0.46796952,  0.86835881,  0.49593646, -0.77303126,\n",
            "       -0.74353077]), array([ 0.83665331, -0.54773282,  0.95345127,  0.30154713, -0.14797976,\n",
            "       -1.35060807]), array([ 0.85290803, -0.5220612 ,  0.99999588, -0.00286934,  0.43227402,\n",
            "       -1.6828187 ]), array([ 0.92412975, -0.3820788 ,  0.91831238, -0.39585651,  1.09512806,\n",
            "       -2.26218713]), array([ 0.98941577, -0.14510833,  0.6746785 , -0.73811173,  1.31806548,\n",
            "       -1.87509173]), array([ 0.99340595,  0.11465   ,  0.43166143, -0.9020357 ,  1.23811662,\n",
            "       -1.00478037]), array([ 0.94959555,  0.31347773,  0.37622298, -0.92652915,  0.75339959,\n",
            "        0.43034668]), array([ 0.91748685,  0.39776612,  0.56434685, -0.82553778,  0.11868272,\n",
            "        1.71609095]), array([ 0.93133949,  0.3641521 ,  0.86028966, -0.50980556, -0.46753241,\n",
            "        2.59100078]), array([ 0.97173934,  0.23605645,  0.9996726 ,  0.02558678, -0.81580651,\n",
            "        2.87804249]), array([ 0.99881596,  0.04864849,  0.81288505,  0.58242416, -1.01097076,\n",
            "        2.93223396]), array([ 0.99126106, -0.13191475,  0.43496293,  0.90044836, -0.77138844,\n",
            "        2.00315669]), array([ 0.96796854, -0.25107152,  0.15729236,  0.98755208, -0.43397957,\n",
            "        0.906874  ]), array([ 0.95180949, -0.3066899 ,  0.06410867,  0.99794292, -0.13706234,\n",
            "        0.02471025]), array([ 0.95898431, -0.28345916,  0.19972525,  0.97985194,  0.38677527,\n",
            "       -1.40112548]), array([ 0.9863564 , -0.16462397,  0.56437776,  0.82551665,  0.82774576,\n",
            "       -2.57313268]), array([ 0.99937717,  0.03528848,  0.93669704,  0.35014092,  1.12972269,\n",
            "       -3.45779148]), array([ 0.96492657,  0.26251992,  0.9306895 , -0.36581013,  1.07157109,\n",
            "       -3.64997247]), array([ 0.91497369,  0.40351349,  0.54459089, -0.83870183,  0.38664895,\n",
            "       -2.46649038]), array([ 0.9136834 ,  0.40642668,  0.21852664, -0.97583098, -0.33660453,\n",
            "       -1.09279854]), array([ 0.95988104,  0.28040755,  0.15794903, -0.98744727, -0.96551182,\n",
            "        0.4526166 ]), array([ 0.99824427,  0.05923149,  0.3562121 , -0.93440513, -1.2418555 ,\n",
            "        1.56814009]), array([ 0.97868871, -0.20534947,  0.7151517 , -0.69896927, -1.38124974,\n",
            "        2.70350152]), array([ 0.90105455, -0.43370577,  0.97422368, -0.2255842 , -0.97395711,\n",
            "        2.62894236]), array([ 0.8264664 , -0.56298604,  0.95751358,  0.28838818, -0.46619107,\n",
            "        2.45241014]), array([ 0.82912189, -0.55906788,  0.79764489,  0.60312738,  0.51957813,\n",
            "        1.05107276]), array([ 0.91751446, -0.39770242,  0.74034977,  0.67222186,  1.28801851,\n",
            "       -0.15144571]), array([ 0.99388202, -0.11044693,  0.80879982,  0.58808405,  1.6323522 ,\n",
            "       -0.88049036]), array([ 0.97434552,  0.22505732,  0.92707544,  0.37487482,  1.66824342,\n",
            "       -1.4646478 ]), array([ 0.87140728,  0.49056024,  0.99248776,  0.12234399,  1.12555724,\n",
            "       -1.05270076]), array([ 0.79136899,  0.6113388 ,  0.99997438, -0.00715814,  0.29677326,\n",
            "       -0.20584305]), array([ 0.80193505,  0.59741123,  0.9999332 ,  0.01155836, -0.46773644,\n",
            "        0.38736533]), array([ 0.88804704,  0.4597526 ,  0.99044837,  0.13788414, -1.12525855,\n",
            "        0.83597793]), array([ 0.9782002 ,  0.20766407,  0.94937079,  0.31415778, -1.50115979,\n",
            "        0.89677574]), array([ 0.99546082, -0.09517225,  0.89532837,  0.44540667, -1.47576911,\n",
            "        0.44693787]), array([ 0.94213755, -0.33522655,  0.90452068,  0.42642975, -0.93868658,\n",
            "       -0.68543193]), array([ 0.89164096, -0.45274319,  0.97569505,  0.21913278, -0.3279197 ,\n",
            "       -1.48246952]), array([ 0.88350999, -0.46841231,  0.99515194, -0.09834948,  0.13776262,\n",
            "       -1.65355179]), array([ 0.91745358, -0.39784284,  0.90037635, -0.43511196,  0.62008798,\n",
            "       -1.79648961]), array([ 0.97147756, -0.2371315 ,  0.68158935, -0.7317349 ,  1.03984452,\n",
            "       -1.83229522]), array([ 0.99995172, -0.00982603,  0.40663625, -0.91359015,  1.21309591,\n",
            "       -1.41117425]), array([ 0.97862513,  0.20565226,  0.26001153, -0.96560551,  0.91197423,\n",
            "       -0.10922991]), array([ 0.93716674,  0.3488818 ,  0.32817163, -0.94461811,  0.54115243,\n",
            "        0.84559365]), array([ 0.9255785 ,  0.37855572,  0.61606996, -0.78769144, -0.24947503,\n",
            "        2.4562662 ]), array([ 0.96430206,  0.2648047 ,  0.9565885 , -0.29144202, -0.90944194,\n",
            "        3.55536541]), array([ 0.99740607,  0.07198008,  0.91809585,  0.39635845, -0.95857778,\n",
            "        3.28103997]), array([ 0.99386479, -0.11060192,  0.52478142,  0.85123702, -0.82178778,\n",
            "        2.72246952]), array([ 0.97204102, -0.23481112,  0.12173937,  0.9925621 , -0.43759126,\n",
            "        1.57455537]), array([ 0.95916095, -0.28286088, -0.07873216,  0.99689581, -0.06365754,\n",
            "        0.43970262]), array([ 0.96751941, -0.25279673, -0.03131988,  0.99950941,  0.37183466,\n",
            "       -0.91343792]), array([ 0.99038571, -0.13833346,  0.28424896,  0.9587505 ,  0.79602155,\n",
            "       -2.28858677]), array([ 0.99922663,  0.03932096,  0.73420329,  0.67892969,  0.95821425,\n",
            "       -3.01989887]), array([ 0.97184703,  0.23561272,  0.99654986,  0.08299625,  0.95593868,\n",
            "       -3.45828222]), array([ 0.93122474,  0.36444544,  0.86467259, -0.50233585,  0.33441373,\n",
            "       -2.49422696]), array([ 0.93550131,  0.35332323,  0.63446206, -0.772954  , -0.44597039,\n",
            "       -1.0529161 ]), array([ 0.97662678,  0.21494215,  0.5588402 , -0.82927537, -0.96197816,\n",
            "        0.09383666]), array([ 0.99986619, -0.01635833,  0.6759377 , -0.73695877, -1.31815881,\n",
            "        1.3531884 ]), array([ 0.95835999, -0.28556284,  0.8950833 , -0.44589896, -1.36004792,\n",
            "        2.22548606]), array([ 0.86627651, -0.49956482,  0.99985894, -0.01679595, -0.91675139,\n",
            "        2.11286297]), array([ 0.79655393, -0.60456748,  0.93017745,  0.36711021, -0.30718583,\n",
            "        1.73300229]), array([ 0.80443534, -0.59404021,  0.79535295,  0.60614659,  0.44576075,\n",
            "        0.97913218]), array([ 0.89473362, -0.4466002 ,  0.74777858,  0.66394818,  1.25392989,\n",
            "       -0.23015702]), array([ 0.98990773, -0.14171338,  0.85956948,  0.51101889,  1.88778792,\n",
            "       -1.60980786]), array([ 0.96981924,  0.24382503,  0.98772954,  0.15617413,  1.90652176,\n",
            "       -2.04652211]), array([ 0.8417474 ,  0.53987157,  0.98251149, -0.18620196,  1.26161343,\n",
            "       -1.28196417]), array([ 0.72704397,  0.6865909 ,  0.92288704, -0.38507078,  0.56974896,\n",
            "       -0.75382273]), array([ 0.71275584,  0.70141222,  0.90247666, -0.43073876, -0.36700646,\n",
            "        0.25925021]), array([ 0.8245607 ,  0.56577349,  0.96617653, -0.2578816 , -1.36349454,\n",
            "        1.55329365]), array([ 0.96810536,  0.25054343,  0.98934947,  0.14555972, -2.03873541,\n",
            "        2.38573129]), array([ 0.98907242, -0.14743051,  0.84882223,  0.52867837, -1.88159033,\n",
            "        1.58341632]), array([ 0.8875472 , -0.46071679,  0.71767059,  0.69638274, -1.36033518,\n",
            "        0.48916725]), array([ 0.79068163, -0.61222753,  0.75818509,  0.65203939, -0.40647783,\n",
            "       -1.09029866]), array([ 0.78962516, -0.61358953,  0.91850711,  0.39540446,  0.37860555,\n",
            "       -1.90136317]), array([ 0.87498885, -0.48414307,  0.99836762, -0.05711482,  1.12657023,\n",
            "       -2.63592991]), array([ 0.97513702, -0.22160277,  0.80989354, -0.58657689,  1.61596263,\n",
            "       -2.90397389]), array([ 0.99389737,  0.11030875,  0.40031656, -0.91637691,  1.66036229,\n",
            "       -2.30923048]), array([ 0.91391462,  0.40590647,  0.04937796, -0.99878016,  1.36310489,\n",
            "       -1.27221977]), array([ 0.8147599 ,  0.57979851, -0.03773379, -0.99928783,  0.60065542,\n",
            "        0.41100335]), array([ 0.79993939,  0.6000808 ,  0.21724816, -0.97611641, -0.37614623,\n",
            "        2.17351376]), array([ 0.8953143 ,  0.44543496,  0.74429885, -0.6678467 , -1.43399262,\n",
            "        4.02233182]), array([ 0.99401892,  0.10920803,  0.984444  ,  0.17569865, -1.94835792,\n",
            "        4.77846055]), array([ 0.96813264, -0.25043799,  0.49879891,  0.86671775, -1.57725441,\n",
            "        3.74625445]), array([ 0.87141387, -0.49054854, -0.10376254,  0.9946021 , -0.99533522,\n",
            "        2.50166526]), array([ 0.80751036, -0.58985338, -0.42280537,  0.90622051, -0.18765301,\n",
            "        0.8469865 ]), array([ 0.82707406, -0.56209296, -0.45271388,  0.89165584,  0.51698007,\n",
            "       -0.50844938]), array([ 0.91164348, -0.41098194, -0.20971497,  0.97776256,  1.19600954,\n",
            "       -2.08285856]), array([ 0.99076545, -0.13558697,  0.33582593,  0.94192406,  1.65489101,\n",
            "       -3.45005998]), array([ 0.97497058,  0.22233391,  0.91344056,  0.40697216,  1.87594066,\n",
            "       -4.50648899]), array([ 0.8457331 ,  0.53360615,  0.8922011 , -0.45163836,  1.37324489,\n",
            "       -4.09038822]), array([ 0.73539194,  0.67764201,  0.38961789, -0.9209766 ,  0.39706936,\n",
            "       -2.84440042]), array([ 0.75283653,  0.65820753, -0.02596276, -0.99966291, -0.63872774,\n",
            "       -1.41646812]), array([ 0.88245084,  0.47040463, -0.12137945, -0.99260618, -1.58231007,\n",
            "        0.43755209]), array([ 0.99127642,  0.1317993 ,  0.08829892, -0.99609402, -1.91826294,\n",
            "        1.6139719 ]), array([ 0.96960081, -0.2446922 ,  0.47540265, -0.87976833, -1.80693039,\n",
            "        2.36563451]), array([ 0.83203037, -0.55473009,  0.86863932, -0.49544498, -1.54778266,\n",
            "        3.09792157]), array([ 0.68588631, -0.72770871,  0.99913455,  0.04159508, -0.66215427,\n",
            "        2.37171541]), array([ 0.66052599, -0.75080318,  0.91017765,  0.41421811,  0.34048061,\n",
            "        1.42157655]), array([ 0.78665828, -0.61738865,  0.84708326,  0.53146021,  1.47358127,\n",
            "       -0.10494543]), array([ 0.96123856, -0.27571804,  0.92522574,  0.37941709,  2.31247835,\n",
            "       -1.54767581]), array([ 0.98144802,  0.19172842,  0.998327  ,  0.0578205 ,  2.29927568,\n",
            "       -1.60810783]), array([ 0.8120392 ,  0.58360289,  0.96666731, -0.25603577,  1.91072028,\n",
            "       -1.43053957]), array([ 0.6199417 ,  0.78464787,  0.91660634, -0.39979098,  0.83794161,\n",
            "       -0.0637932 ]), array([ 0.58159675,  0.81347724,  0.95991398, -0.28029474, -0.36064666,\n",
            "        1.32024246]), array([ 0.70365407,  0.71054271,  0.99939982,  0.03464087, -1.20716288,\n",
            "        1.81071435]), array([ 0.8962347 ,  0.44358017,  0.88986101,  0.45623172, -2.02883329,\n",
            "        2.44478523]), array([ 0.99988736,  0.0150091 ,  0.5870257 ,  0.8095683 , -2.32114294,\n",
            "        2.08905034]), array([ 0.9180012 , -0.39657761,  0.36230474,  0.93205969, -1.81740467,\n",
            "        0.4093739 ]), array([ 0.76523295, -0.64375347,  0.41098501,  0.9116421 , -1.03737721,\n",
            "       -0.94696805]), array([ 0.7006099 , -0.71354451,  0.69934752,  0.71478182,  0.10406204,\n",
            "       -2.53744228]), array([ 0.78011442, -0.62563686,  0.98256215,  0.18593445,  1.02788822,\n",
            "       -3.44131926]), array([ 0.92458865, -0.38096695,  0.83694131, -0.54729265,  1.72066657,\n",
            "       -4.00525556]), array([ 0.99888854, -0.04713469,  0.28978293, -0.9570924 ,  1.67064444,\n",
            "       -2.88418432]), array([ 0.96544361,  0.26061204, -0.14497936, -0.98943468,  1.39946952,\n",
            "       -1.48635139]), array([ 0.8724195 ,  0.48875782, -0.33166943, -0.94339567,  1.02295878,\n",
            "       -0.41446908]), array([ 0.79780413,  0.60291673, -0.27700045, -0.96086979,  0.30550303,\n",
            "        1.00465582]), array([ 0.81832094,  0.57476155,  0.09530354, -0.99544826, -0.67878183,\n",
            "        2.78706865]), array([ 0.92427767,  0.38172083,  0.71038417, -0.70381413, -1.49923402,\n",
            "        4.12291096]), array([ 0.99897034,  0.04536809,  0.99335472,  0.11509298, -1.82491644,\n",
            "        4.56251154]), array([ 0.95507059, -0.29637841,  0.55472522,  0.83203361, -1.52568784,\n",
            "        3.89110041]), array([ 0.86165384, -0.50749646, -0.0370935 ,  0.9993118 , -0.77618211,\n",
            "        2.36073236]), array([ 0.81447487, -0.58019883, -0.37723623,  0.92611707, -0.09242941,\n",
            "        1.14886513]), array([ 0.84429209, -0.53588325, -0.46121136,  0.88729031,  0.60761483,\n",
            "       -0.2107588 ]), array([ 0.92622685, -0.37696661, -0.30177743,  0.95337841,  1.1508821 ,\n",
            "       -1.50818498]), array([ 0.99292935, -0.1187068 ,  0.12004094,  0.99276894,  1.49303614,\n",
            "       -2.74914198]), array([ 0.98034746,  0.19727861,  0.70562279,  0.70858767,  1.64474803,\n",
            "       -3.81983753]), array([ 0.87210428,  0.48932006,  0.99976395, -0.02172636,  1.37873933,\n",
            "       -4.0549893 ]), array([ 0.7625105 ,  0.64697585,  0.7388197 , -0.67390314,  0.46922484,\n",
            "       -2.96894234]), array([ 0.77337533,  0.63394842,  0.38091979, -0.92460809, -0.63078432,\n",
            "       -1.41172366]), array([ 0.8937377 ,  0.44858992,  0.26556466, -0.96409305, -1.52862393,\n",
            "        0.18172775]), array([ 0.99463261,  0.10346968,  0.43717093, -0.89937844, -2.00881539,\n",
            "        1.6025174 ]), array([ 0.9502858 , -0.31137902,  0.78760722, -0.61617763, -2.1162311 ,\n",
            "        2.83336975]), array([ 0.76719451, -0.64141451,  0.99681881, -0.07970106, -1.59588395,\n",
            "        2.83547447]), array([ 0.59135438, -0.80641181,  0.90311204,  0.42940499, -0.76665135,\n",
            "        2.29513658]), array([ 0.55009872, -0.83509963,  0.68917623,  0.72459377,  0.28154278,\n",
            "        1.32641729]), array([ 0.69440264, -0.71958667,  0.62163268,  0.78330889,  1.54284759,\n",
            "       -0.45082932]), array([ 0.91619707, -0.40072801,  0.77203548,  0.63557944,  2.2993118 ,\n",
            "       -1.62458602]), array([ 0.99683515,  0.0794965 ,  0.9587401 ,  0.28428405,  2.5084754 ,\n",
            "       -2.22363437]), array([ 0.84986554,  0.52699959,  0.987952  , -0.15476062,  2.1358249 ,\n",
            "       -2.03110722]), array([ 0.63328306,  0.77392026,  0.90655504, -0.42208762,  1.11006337,\n",
            "       -0.71265844]), array([ 0.54009128,  0.84160644,  0.89285644, -0.45034141,  0.03063047,\n",
            "        0.39726685]), array([ 0.6234938 ,  0.78182829,  0.96093427, -0.27677669, -1.04243833,\n",
            "        1.44909222]), array([ 0.83481507,  0.55053047,  0.99180493,  0.12776144, -2.04373473,\n",
            "        2.53472554]), array([ 0.99318747,  0.11652749,  0.78725314,  0.61662995, -2.50984125,\n",
            "        2.62695224]), array([ 0.93027613, -0.36686009,  0.45122655,  0.89240943, -2.31347758,\n",
            "        1.62801629]), array([ 0.7310586 , -0.68231468,  0.33139619,  0.94349169, -1.36537191,\n",
            "       -0.33720666]), array([ 0.61439888, -0.78899557,  0.54183583,  0.84048434, -0.1869027 ,\n",
            "       -1.99167979]), array([ 0.680002  , -0.73321026,  0.90147744,  0.43282609,  1.0231871 ,\n",
            "       -3.45583705]), array([ 0.85794197, -0.51374661,  0.95566774, -0.29444722,  1.71565495,\n",
            "       -3.81469978]), array([ 0.98464952, -0.1745432 ,  0.54338176, -0.83948572,  1.85528498,\n",
            "       -3.01561935]), array([ 0.97988857,  0.19954545,  0.04895596, -0.99880094,  1.84871749,\n",
            "       -2.16015254]), array([ 0.86666518,  0.49889024, -0.21957474, -0.97559568,  1.30780328,\n",
            "       -0.52206288]), array([ 0.76436418,  0.64478477, -0.15191457, -0.98839363,  0.42669015,\n",
            "        1.22819756]), array([ 0.76781085,  0.6406766 ,  0.22608657, -0.97410721, -0.49629333,\n",
            "        2.58478278]), array([ 0.88710795,  0.46156201,  0.8074129 , -0.58998678, -1.64080745,\n",
            "        4.51017836]), array([ 0.99592786,  0.09015372,  0.93664052,  0.35029206, -2.08494577,\n",
            "        5.03963755]), array([ 0.96152   , -0.27473494,  0.34020201,  0.94035238, -1.53153447,\n",
            "        3.49188636]), array([ 0.8666008 , -0.49900206, -0.20236909,  0.97930932, -0.89585206,\n",
            "        2.02614949])] \n",
            " actions [2, 0, 0, 2, 0, 1, 0, 0, 0, 1, 2, 1, 1, 2, 2, 2, 0, 1, 2, 0, 2, 0, 2, 2, 2, 2, 0, 0, 1, 2, 1, 2, 2, 1, 0, 1, 2, 0, 1, 2, 1, 1, 1, 0, 2, 2, 0, 1, 0, 1, 2, 1, 1, 0, 0, 2, 2, 0, 1, 0, 1, 2, 2, 1, 0, 2, 0, 1, 2, 2, 2, 2, 2, 2, 0, 2, 2, 0, 2, 2, 0, 1, 1, 1, 1, 1, 2, 2, 0, 2, 1, 0, 1, 0, 1, 2, 0, 2, 2, 2, 0, 2, 2, 1, 0, 0, 2, 1, 1, 0, 2, 1, 0, 2, 0, 2, 2, 2, 2, 0, 0, 1, 0, 2, 2, 2, 1, 2, 2, 0, 2, 0, 1, 1, 1, 0, 0, 1, 0, 0, 2, 1, 2, 2, 1, 1, 0, 0, 1, 0, 2, 0, 1, 2, 1, 1, 1, 1, 0, 0, 2, 1, 1, 1, 0, 0, 2, 1, 2, 0, 1, 0, 2, 2, 0, 2, 0, 1, 0, 2, 1, 2, 1, 0, 2, 2, 2, 1, 2, 1, 1, 0, 0, 1, 2, 0, 2, 1, 0, 1, 2, 1, 2, 1, 0, 1, 1, 1, 2, 2, 0, 2, 1, 0, 0, 1, 1, 2, 2, 0, 1, 1, 1, 2, 2, 2, 2, 2, 2, 2, 2, 2, 0, 2, 1, 2, 0, 2, 0, 1, 2, 2, 1, 2, 2, 0, 0, 1, 0, 0, 1, 0, 0, 1, 2, 2, 0, 2, 1, 0, 1, 2, 2, 1, 1, 0, 2, 1, 2, 0, 0, 1, 1, 0, 1, 1, 1, 2, 2, 2, 2, 0, 0, 2, 0, 0, 2, 2, 1, 2, 1, 1, 0, 2, 1, 2, 1, 2, 1, 2, 2, 2, 2, 2, 1, 0, 0, 1, 0, 2, 2, 1, 0, 0, 2, 2, 1, 1, 0, 2, 2, 1, 0, 1, 2, 1, 0, 1, 0, 0, 0, 2, 2, 2, 2, 2, 2, 1, 2, 0, 1, 2, 0, 2, 2, 0, 1, 1, 2, 1, 0, 0, 2, 1, 1, 2, 0, 1, 1, 0, 1, 1, 2, 1, 2, 0, 2, 0, 1, 2, 1, 2, 2, 1, 1, 1, 1, 0, 1, 2, 1, 0, 0, 2, 0, 2, 1, 0, 2, 1, 1, 0, 0, 2, 1, 2, 2, 1, 2, 2, 1, 2, 2, 1, 0, 1, 2, 0, 1, 2, 2, 0, 1, 0, 2, 1, 0, 0, 0, 2, 2, 2, 1, 1, 2, 0, 1, 0, 1, 1, 1, 0, 0, 2, 0, 0, 2, 0, 1, 0, 0, 2, 0, 2, 2, 0, 2, 2, 0, 2, 1, 2, 0, 2, 2, 0, 1, 2, 0, 0, 2, 1, 2, 1, 1, 1, 1, 1, 1, 1, 1, 1, 2, 1, 2, 2, 0, 2, 2, 1, 2, 1, 1, 2, 2, 2, 0, 1, 1, 2, 2, 0, 2, 2, 0, 2, 1, 0, 1, 1] \n",
            " rewards [-1.0, -1.0, -1.0, -1.0, -1.0, -1.0, -1.0, -1.0, -1.0, -1.0, -1.0, -1.0, -1.0, -1.0, -1.0, -1.0, -1.0, -1.0, -1.0, -1.0, -1.0, -1.0, -1.0, -1.0, -1.0, -1.0, -1.0, -1.0, -1.0, -1.0, -1.0, -1.0, -1.0, -1.0, -1.0, -1.0, -1.0, -1.0, -1.0, -1.0, -1.0, -1.0, -1.0, -1.0, -1.0, -1.0, -1.0, -1.0, -1.0, -1.0, -1.0, -1.0, -1.0, -1.0, -1.0, -1.0, -1.0, -1.0, -1.0, -1.0, -1.0, -1.0, -1.0, -1.0, -1.0, -1.0, -1.0, -1.0, -1.0, -1.0, -1.0, -1.0, -1.0, -1.0, -1.0, -1.0, -1.0, -1.0, -1.0, -1.0, -1.0, -1.0, -1.0, -1.0, -1.0, -1.0, -1.0, -1.0, -1.0, -1.0, -1.0, -1.0, -1.0, -1.0, -1.0, -1.0, -1.0, -1.0, -1.0, -1.0, -1.0, -1.0, -1.0, -1.0, -1.0, -1.0, -1.0, -1.0, -1.0, -1.0, -1.0, -1.0, -1.0, -1.0, -1.0, -1.0, -1.0, -1.0, -1.0, -1.0, -1.0, -1.0, -1.0, -1.0, -1.0, -1.0, -1.0, -1.0, -1.0, -1.0, -1.0, -1.0, -1.0, -1.0, -1.0, -1.0, -1.0, -1.0, -1.0, -1.0, -1.0, -1.0, -1.0, -1.0, -1.0, -1.0, -1.0, -1.0, -1.0, -1.0, -1.0, -1.0, -1.0, -1.0, -1.0, -1.0, -1.0, -1.0, -1.0, -1.0, -1.0, -1.0, -1.0, -1.0, -1.0, -1.0, -1.0, -1.0, -1.0, -1.0, -1.0, -1.0, -1.0, -1.0, -1.0, -1.0, -1.0, -1.0, -1.0, -1.0, -1.0, -1.0, -1.0, -1.0, -1.0, -1.0, -1.0, -1.0, -1.0, -1.0, -1.0, -1.0, -1.0, -1.0, -1.0, -1.0, -1.0, -1.0, -1.0, -1.0, -1.0, -1.0, -1.0, -1.0, -1.0, -1.0, -1.0, -1.0, -1.0, -1.0, -1.0, -1.0, -1.0, -1.0, -1.0, -1.0, -1.0, -1.0, -1.0, -1.0, -1.0, -1.0, -1.0, -1.0, -1.0, -1.0, -1.0, -1.0, -1.0, -1.0, -1.0, -1.0, -1.0, -1.0, -1.0, -1.0, -1.0, -1.0, -1.0, -1.0, -1.0, -1.0, -1.0, -1.0, -1.0, -1.0, -1.0, -1.0, -1.0, -1.0, -1.0, -1.0, -1.0, -1.0, -1.0, -1.0, -1.0, -1.0, -1.0, -1.0, -1.0, -1.0, -1.0, -1.0, -1.0, -1.0, -1.0, -1.0, -1.0, -1.0, -1.0, -1.0, -1.0, -1.0, -1.0, -1.0, -1.0, -1.0, -1.0, -1.0, -1.0, -1.0, -1.0, -1.0, -1.0, -1.0, -1.0, -1.0, -1.0, -1.0, -1.0, -1.0, -1.0, -1.0, -1.0, -1.0, -1.0, -1.0, -1.0, -1.0, -1.0, -1.0, -1.0, -1.0, -1.0, -1.0, -1.0, -1.0, -1.0, -1.0, -1.0, -1.0, -1.0, -1.0, -1.0, -1.0, -1.0, -1.0, -1.0, -1.0, -1.0, -1.0, -1.0, -1.0, -1.0, -1.0, -1.0, -1.0, -1.0, -1.0, -1.0, -1.0, -1.0, -1.0, -1.0, -1.0, -1.0, -1.0, -1.0, -1.0, -1.0, -1.0, -1.0, -1.0, -1.0, -1.0, -1.0, -1.0, -1.0, -1.0, -1.0, -1.0, -1.0, -1.0, -1.0, -1.0, -1.0, -1.0, -1.0, -1.0, -1.0, -1.0, -1.0, -1.0, -1.0, -1.0, -1.0, -1.0, -1.0, -1.0, -1.0, -1.0, -1.0, -1.0, -1.0, -1.0, -1.0, -1.0, -1.0, -1.0, -1.0, -1.0, -1.0, -1.0, -1.0, -1.0, -1.0, -1.0, -1.0, -1.0, -1.0, -1.0, -1.0, -1.0, -1.0, -1.0, -1.0, -1.0, -1.0, -1.0, -1.0, -1.0, -1.0, -1.0, -1.0, -1.0, -1.0, -1.0, -1.0, -1.0, -1.0, -1.0, -1.0, -1.0, -1.0, -1.0, -1.0, -1.0, -1.0, -1.0, -1.0, -1.0, -1.0, -1.0, -1.0, -1.0, -1.0, -1.0, -1.0, -1.0, -1.0, -1.0, -1.0, -1.0, -1.0, -1.0, -1.0, -1.0, -1.0, -1.0, -1.0, -1.0, -1.0, -1.0, -1.0, -1.0, -1.0, -1.0, -1.0, -1.0, -1.0, -1.0, -1.0, -1.0, -1.0, -1.0, -1.0, -1.0, -1.0, -1.0, -1.0, -1.0, -1.0, -1.0, -1.0, -1.0, -1.0, -1.0, -1.0, -1.0, -1.0, -1.0, -1.0, -1.0, -1.0, -1.0, -1.0, -1.0, -1.0, -1.0, -1.0, -1.0, -1.0, -1.0, -1.0, -1.0, -1.0, -1.0, -1.0, -1.0, -1.0, -1.0, -1.0, -1.0, -1.0, -1.0, -1.0, -1.0, -1.0, -1.0]\n"
          ],
          "name": "stdout"
        }
      ]
    },
    {
      "cell_type": "code",
      "metadata": {
        "id": "Nf5dtU8NBmL7"
      },
      "source": [
        "# Your code: define optimizers\r\n",
        "optimizer = torch.optim.Adam(model.parameters(), 1e-3)\r\n",
        "\r\n",
        "\r\n",
        "def train_on_session(states, actions, rewards, gamma=0.99, entropy_coef=1e-3):\r\n",
        "    \"\"\"\r\n",
        "    Takes a sequence of states, actions and rewards produced by generate_session.\r\n",
        "    Updates agent's weights by following the policy gradient above.\r\n",
        "    Please use Adam optimizer with default parameters.\r\n",
        "    \"\"\"\r\n",
        "\r\n",
        "    # cast everything into torch tensors\r\n",
        "    states = torch.tensor(states, dtype=torch.float32)\r\n",
        "    actions = torch.tensor(actions, dtype=torch.int32)\r\n",
        "    cumulative_returns = np.array(get_cumulative_rewards(rewards, gamma))\r\n",
        "    cumulative_returns = torch.tensor(cumulative_returns, dtype=torch.float32)\r\n",
        "\r\n",
        "    # predict logits, probas and log-probas using an agent.\r\n",
        "    logits = model(states)\r\n",
        "    probs = nn.functional.softmax(logits, -1)\r\n",
        "    log_probs = nn.functional.log_softmax(logits, -1)\r\n",
        "\r\n",
        "    assert all(isinstance(v, torch.Tensor) for v in [logits, probs, log_probs]), \\\r\n",
        "        \"please use compute using torch tensors and don't use predict_probs function\"\r\n",
        "\r\n",
        "    # select log-probabilities for chosen actions, log pi(a_i|s_i)\r\n",
        "    log_probs_for_actions = torch.sum(\r\n",
        "        log_probs * to_one_hot(actions, env.action_space.n), dim=1)\r\n",
        "   \r\n",
        "    # Compute loss here. Don't forget entropy regularization with `entropy_coef` \r\n",
        "    entropy = - torch.mean(torch.sum(probs * log_probs), dim=-1) #< your code >\r\n",
        "    loss = - torch.mean(log_probs_for_actions * (cumulative_returns-torch.mean(cumulative_returns))) - entropy * entropy_coef  #< your code\r\n",
        "\r\n",
        "    # Gradient descent step\r\n",
        "    loss.backward()\r\n",
        "    optimizer.step()\r\n",
        "    optimizer.zero_grad()\r\n",
        "    #< your code >\r\n",
        "\r\n",
        "    # technical: return session rewards to print them later\r\n",
        "    return np.sum(rewards)"
      ],
      "execution_count": 21,
      "outputs": []
    },
    {
      "cell_type": "code",
      "metadata": {
        "id": "d9IgdHNyBIzj",
        "outputId": "559e8c67-855c-4d1e-b729-a66f9e6c03b1",
        "colab": {
          "base_uri": "https://localhost:8080/",
          "height": 629
        }
      },
      "source": [
        "for i in range(100):\r\n",
        "    rewards = [train_on_session(*generate_session())\r\n",
        "               for _ in range(100)]  # generate new sessions\r\n",
        "    print(\"mean reward:%.3f\" % (np.mean(rewards)))\r\n",
        "    if np.mean(rewards) > 500:\r\n",
        "        print(\"You Win!\")  # but you can train even further\r\n",
        "        break"
      ],
      "execution_count": 22,
      "outputs": [
        {
          "output_type": "stream",
          "text": [
            "mean reward:-500.000\n",
            "mean reward:-500.000\n",
            "mean reward:-500.000\n",
            "mean reward:-500.000\n",
            "mean reward:-500.000\n",
            "mean reward:-390.430\n",
            "mean reward:-183.440\n",
            "mean reward:-163.360\n",
            "mean reward:-161.120\n",
            "mean reward:-212.960\n",
            "mean reward:-237.130\n",
            "mean reward:-205.490\n",
            "mean reward:-185.150\n",
            "mean reward:-137.300\n",
            "mean reward:-131.810\n"
          ],
          "name": "stdout"
        },
        {
          "output_type": "error",
          "ename": "KeyboardInterrupt",
          "evalue": "ignored",
          "traceback": [
            "\u001b[0;31m---------------------------------------------------------------------------\u001b[0m",
            "\u001b[0;31mKeyboardInterrupt\u001b[0m                         Traceback (most recent call last)",
            "\u001b[0;32m<ipython-input-22-3d2fff506229>\u001b[0m in \u001b[0;36m<module>\u001b[0;34m()\u001b[0m\n\u001b[1;32m      1\u001b[0m \u001b[0;32mfor\u001b[0m \u001b[0mi\u001b[0m \u001b[0;32min\u001b[0m \u001b[0mrange\u001b[0m\u001b[0;34m(\u001b[0m\u001b[0;36m100\u001b[0m\u001b[0;34m)\u001b[0m\u001b[0;34m:\u001b[0m\u001b[0;34m\u001b[0m\u001b[0;34m\u001b[0m\u001b[0m\n\u001b[1;32m      2\u001b[0m     rewards = [train_on_session(*generate_session())\n\u001b[0;32m----> 3\u001b[0;31m                for _ in range(100)]  # generate new sessions\n\u001b[0m\u001b[1;32m      4\u001b[0m     \u001b[0mprint\u001b[0m\u001b[0;34m(\u001b[0m\u001b[0;34m\"mean reward:%.3f\"\u001b[0m \u001b[0;34m%\u001b[0m \u001b[0;34m(\u001b[0m\u001b[0mnp\u001b[0m\u001b[0;34m.\u001b[0m\u001b[0mmean\u001b[0m\u001b[0;34m(\u001b[0m\u001b[0mrewards\u001b[0m\u001b[0;34m)\u001b[0m\u001b[0;34m)\u001b[0m\u001b[0;34m)\u001b[0m\u001b[0;34m\u001b[0m\u001b[0;34m\u001b[0m\u001b[0m\n\u001b[1;32m      5\u001b[0m     \u001b[0;32mif\u001b[0m \u001b[0mnp\u001b[0m\u001b[0;34m.\u001b[0m\u001b[0mmean\u001b[0m\u001b[0;34m(\u001b[0m\u001b[0mrewards\u001b[0m\u001b[0;34m)\u001b[0m \u001b[0;34m>\u001b[0m \u001b[0;36m500\u001b[0m\u001b[0;34m:\u001b[0m\u001b[0;34m\u001b[0m\u001b[0;34m\u001b[0m\u001b[0m\n",
            "\u001b[0;32m<ipython-input-22-3d2fff506229>\u001b[0m in \u001b[0;36m<listcomp>\u001b[0;34m(.0)\u001b[0m\n\u001b[1;32m      1\u001b[0m \u001b[0;32mfor\u001b[0m \u001b[0mi\u001b[0m \u001b[0;32min\u001b[0m \u001b[0mrange\u001b[0m\u001b[0;34m(\u001b[0m\u001b[0;36m100\u001b[0m\u001b[0;34m)\u001b[0m\u001b[0;34m:\u001b[0m\u001b[0;34m\u001b[0m\u001b[0;34m\u001b[0m\u001b[0m\n\u001b[1;32m      2\u001b[0m     rewards = [train_on_session(*generate_session())\n\u001b[0;32m----> 3\u001b[0;31m                for _ in range(100)]  # generate new sessions\n\u001b[0m\u001b[1;32m      4\u001b[0m     \u001b[0mprint\u001b[0m\u001b[0;34m(\u001b[0m\u001b[0;34m\"mean reward:%.3f\"\u001b[0m \u001b[0;34m%\u001b[0m \u001b[0;34m(\u001b[0m\u001b[0mnp\u001b[0m\u001b[0;34m.\u001b[0m\u001b[0mmean\u001b[0m\u001b[0;34m(\u001b[0m\u001b[0mrewards\u001b[0m\u001b[0;34m)\u001b[0m\u001b[0;34m)\u001b[0m\u001b[0;34m)\u001b[0m\u001b[0;34m\u001b[0m\u001b[0;34m\u001b[0m\u001b[0m\n\u001b[1;32m      5\u001b[0m     \u001b[0;32mif\u001b[0m \u001b[0mnp\u001b[0m\u001b[0;34m.\u001b[0m\u001b[0mmean\u001b[0m\u001b[0;34m(\u001b[0m\u001b[0mrewards\u001b[0m\u001b[0;34m)\u001b[0m \u001b[0;34m>\u001b[0m \u001b[0;36m500\u001b[0m\u001b[0;34m:\u001b[0m\u001b[0;34m\u001b[0m\u001b[0;34m\u001b[0m\u001b[0m\n",
            "\u001b[0;32m<ipython-input-9-38a3fa6d25f7>\u001b[0m in \u001b[0;36mgenerate_session\u001b[0;34m(t_max)\u001b[0m\n\u001b[1;32m     10\u001b[0m     \u001b[0;32mfor\u001b[0m \u001b[0mt\u001b[0m \u001b[0;32min\u001b[0m \u001b[0mrange\u001b[0m\u001b[0;34m(\u001b[0m\u001b[0mt_max\u001b[0m\u001b[0;34m)\u001b[0m\u001b[0;34m:\u001b[0m\u001b[0;34m\u001b[0m\u001b[0;34m\u001b[0m\u001b[0m\n\u001b[1;32m     11\u001b[0m         \u001b[0;31m# action probabilities array aka pi(a|s)\u001b[0m\u001b[0;34m\u001b[0m\u001b[0;34m\u001b[0m\u001b[0;34m\u001b[0m\u001b[0m\n\u001b[0;32m---> 12\u001b[0;31m         \u001b[0maction_probs\u001b[0m \u001b[0;34m=\u001b[0m \u001b[0mpredict_probs\u001b[0m\u001b[0;34m(\u001b[0m\u001b[0mnp\u001b[0m\u001b[0;34m.\u001b[0m\u001b[0marray\u001b[0m\u001b[0;34m(\u001b[0m\u001b[0;34m[\u001b[0m\u001b[0ms\u001b[0m\u001b[0;34m]\u001b[0m\u001b[0;34m)\u001b[0m\u001b[0;34m)\u001b[0m\u001b[0;34m[\u001b[0m\u001b[0;36m0\u001b[0m\u001b[0;34m]\u001b[0m\u001b[0;34m\u001b[0m\u001b[0;34m\u001b[0m\u001b[0m\n\u001b[0m\u001b[1;32m     13\u001b[0m \u001b[0;34m\u001b[0m\u001b[0m\n\u001b[1;32m     14\u001b[0m         \u001b[0;31m# Sample action with given probabilities.\u001b[0m\u001b[0;34m\u001b[0m\u001b[0;34m\u001b[0m\u001b[0;34m\u001b[0m\u001b[0m\n",
            "\u001b[0;32m<ipython-input-7-3fe3c1c0f003>\u001b[0m in \u001b[0;36mpredict_probs\u001b[0;34m(states)\u001b[0m\n\u001b[1;32m      7\u001b[0m     \u001b[0;31m# convert states, compute logits, use softmax to get probability\u001b[0m\u001b[0;34m\u001b[0m\u001b[0;34m\u001b[0m\u001b[0;34m\u001b[0m\u001b[0m\n\u001b[1;32m      8\u001b[0m     \u001b[0;31m#<your code here >\u001b[0m\u001b[0;34m\u001b[0m\u001b[0;34m\u001b[0m\u001b[0;34m\u001b[0m\u001b[0m\n\u001b[0;32m----> 9\u001b[0;31m     \u001b[0mstates\u001b[0m \u001b[0;34m=\u001b[0m \u001b[0mtorch\u001b[0m\u001b[0;34m.\u001b[0m\u001b[0mFloatTensor\u001b[0m\u001b[0;34m(\u001b[0m\u001b[0mstates\u001b[0m\u001b[0;34m)\u001b[0m\u001b[0;34m\u001b[0m\u001b[0;34m\u001b[0m\u001b[0m\n\u001b[0m\u001b[1;32m     10\u001b[0m     \u001b[0mlogits\u001b[0m \u001b[0;34m=\u001b[0m \u001b[0mmodel\u001b[0m\u001b[0;34m(\u001b[0m\u001b[0mstates\u001b[0m\u001b[0;34m)\u001b[0m\u001b[0;34m.\u001b[0m\u001b[0mdetach\u001b[0m\u001b[0;34m(\u001b[0m\u001b[0;34m)\u001b[0m\u001b[0;34m\u001b[0m\u001b[0;34m\u001b[0m\u001b[0m\n\u001b[1;32m     11\u001b[0m     \u001b[0mprobs\u001b[0m \u001b[0;34m=\u001b[0m \u001b[0mF\u001b[0m\u001b[0;34m.\u001b[0m\u001b[0msoftmax\u001b[0m\u001b[0;34m(\u001b[0m\u001b[0mlogits\u001b[0m\u001b[0;34m,\u001b[0m \u001b[0mdim\u001b[0m\u001b[0;34m=\u001b[0m\u001b[0;34m-\u001b[0m\u001b[0;36m1\u001b[0m\u001b[0;34m)\u001b[0m\u001b[0;34m.\u001b[0m\u001b[0mnumpy\u001b[0m\u001b[0;34m(\u001b[0m\u001b[0;34m)\u001b[0m\u001b[0;34m\u001b[0m\u001b[0;34m\u001b[0m\u001b[0m\n",
            "\u001b[0;31mKeyboardInterrupt\u001b[0m: "
          ]
        }
      ]
    },
    {
      "cell_type": "code",
      "metadata": {
        "id": "ZssC4RLOCpAz"
      },
      "source": [
        "# record sessions\r\n",
        "import gym.wrappers\r\n",
        "env = gym.wrappers.Monitor(gym.make(\"Acrobot-v1\"),\r\n",
        "                           directory=\"videos\", force=True)\r\n",
        "sessions = [generate_session() for _ in range(100)]\r\n",
        "env.close()"
      ],
      "execution_count": 23,
      "outputs": []
    },
    {
      "cell_type": "code",
      "metadata": {
        "id": "EVZqse5ECsda",
        "outputId": "89353bb4-9695-4b3b-8341-84215769175b",
        "colab": {
          "resources": {
            "http://localhost:8080/videos/openaigym.video.1.1361.video000008.mp4": {
              "data": "CjwhRE9DVFlQRSBodG1sPgo8aHRtbCBsYW5nPWVuPgogIDxtZXRhIGNoYXJzZXQ9dXRmLTg+CiAgPG1ldGEgbmFtZT12aWV3cG9ydCBjb250ZW50PSJpbml0aWFsLXNjYWxlPTEsIG1pbmltdW0tc2NhbGU9MSwgd2lkdGg9ZGV2aWNlLXdpZHRoIj4KICA8dGl0bGU+RXJyb3IgNDA0IChOb3QgRm91bmQpISExPC90aXRsZT4KICA8c3R5bGU+CiAgICAqe21hcmdpbjowO3BhZGRpbmc6MH1odG1sLGNvZGV7Zm9udDoxNXB4LzIycHggYXJpYWwsc2Fucy1zZXJpZn1odG1se2JhY2tncm91bmQ6I2ZmZjtjb2xvcjojMjIyO3BhZGRpbmc6MTVweH1ib2R5e21hcmdpbjo3JSBhdXRvIDA7bWF4LXdpZHRoOjM5MHB4O21pbi1oZWlnaHQ6MTgwcHg7cGFkZGluZzozMHB4IDAgMTVweH0qID4gYm9keXtiYWNrZ3JvdW5kOnVybCgvL3d3dy5nb29nbGUuY29tL2ltYWdlcy9lcnJvcnMvcm9ib3QucG5nKSAxMDAlIDVweCBuby1yZXBlYXQ7cGFkZGluZy1yaWdodDoyMDVweH1we21hcmdpbjoxMXB4IDAgMjJweDtvdmVyZmxvdzpoaWRkZW59aW5ze2NvbG9yOiM3Nzc7dGV4dC1kZWNvcmF0aW9uOm5vbmV9YSBpbWd7Ym9yZGVyOjB9QG1lZGlhIHNjcmVlbiBhbmQgKG1heC13aWR0aDo3NzJweCl7Ym9keXtiYWNrZ3JvdW5kOm5vbmU7bWFyZ2luLXRvcDowO21heC13aWR0aDpub25lO3BhZGRpbmctcmlnaHQ6MH19I2xvZ297YmFja2dyb3VuZDp1cmwoLy93d3cuZ29vZ2xlLmNvbS9pbWFnZXMvbG9nb3MvZXJyb3JwYWdlL2Vycm9yX2xvZ28tMTUweDU0LnBuZykgbm8tcmVwZWF0O21hcmdpbi1sZWZ0Oi01cHh9QG1lZGlhIG9ubHkgc2NyZWVuIGFuZCAobWluLXJlc29sdXRpb246MTkyZHBpKXsjbG9nb3tiYWNrZ3JvdW5kOnVybCgvL3d3dy5nb29nbGUuY29tL2ltYWdlcy9sb2dvcy9lcnJvcnBhZ2UvZXJyb3JfbG9nby0xNTB4NTQtMngucG5nKSBuby1yZXBlYXQgMCUgMCUvMTAwJSAxMDAlOy1tb3otYm9yZGVyLWltYWdlOnVybCgvL3d3dy5nb29nbGUuY29tL2ltYWdlcy9sb2dvcy9lcnJvcnBhZ2UvZXJyb3JfbG9nby0xNTB4NTQtMngucG5nKSAwfX1AbWVkaWEgb25seSBzY3JlZW4gYW5kICgtd2Via2l0LW1pbi1kZXZpY2UtcGl4ZWwtcmF0aW86Mil7I2xvZ297YmFja2dyb3VuZDp1cmwoLy93d3cuZ29vZ2xlLmNvbS9pbWFnZXMvbG9nb3MvZXJyb3JwYWdlL2Vycm9yX2xvZ28tMTUweDU0LTJ4LnBuZykgbm8tcmVwZWF0Oy13ZWJraXQtYmFja2dyb3VuZC1zaXplOjEwMCUgMTAwJX19I2xvZ297ZGlzcGxheTppbmxpbmUtYmxvY2s7aGVpZ2h0OjU0cHg7d2lkdGg6MTUwcHh9CiAgPC9zdHlsZT4KICA8YSBocmVmPS8vd3d3Lmdvb2dsZS5jb20vPjxzcGFuIGlkPWxvZ28gYXJpYS1sYWJlbD1Hb29nbGU+PC9zcGFuPjwvYT4KICA8cD48Yj40MDQuPC9iPiA8aW5zPlRoYXTigJlzIGFuIGVycm9yLjwvaW5zPgogIDxwPiAgPGlucz5UaGF04oCZcyBhbGwgd2Uga25vdy48L2lucz4K",
              "ok": false,
              "headers": [
                [
                  "content-length",
                  "1449"
                ],
                [
                  "content-type",
                  "text/html; charset=utf-8"
                ]
              ],
              "status": 404,
              "status_text": ""
            }
          },
          "base_uri": "https://localhost:8080/",
          "height": 501
        }
      },
      "source": [
        "# show video\r\n",
        "from IPython.display import HTML\r\n",
        "import os\r\n",
        "\r\n",
        "video_names = list(\r\n",
        "    filter(lambda s: s.endswith(\".mp4\"), os.listdir(\"./videos/\")))\r\n",
        "\r\n",
        "HTML(\"\"\"\r\n",
        "<video width=\"640\" height=\"480\" controls>\r\n",
        "  <source src=\"{}\" type=\"video/mp4\">\r\n",
        "</video>\r\n",
        "\"\"\".format(\"./videos/\"+video_names[-1]))  # this may or may not be the _last_ video. Try other indices"
      ],
      "execution_count": 24,
      "outputs": [
        {
          "output_type": "execute_result",
          "data": {
            "text/html": [
              "\n",
              "<video width=\"640\" height=\"480\" controls>\n",
              "  <source src=\"./videos/openaigym.video.1.1361.video000008.mp4\" type=\"video/mp4\">\n",
              "</video>\n"
            ],
            "text/plain": [
              "<IPython.core.display.HTML object>"
            ]
          },
          "metadata": {
            "tags": []
          },
          "execution_count": 24
        }
      ]
    }
  ]
}